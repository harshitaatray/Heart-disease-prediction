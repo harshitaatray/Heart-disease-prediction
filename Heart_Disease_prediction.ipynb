{
  "nbformat": 4,
  "nbformat_minor": 0,
  "metadata": {
    "colab": {
      "provenance": [],
      "include_colab_link": true
    },
    "kernelspec": {
      "name": "python3",
      "display_name": "Python 3"
    },
    "language_info": {
      "name": "python"
    }
  },
  "cells": [
    {
      "cell_type": "markdown",
      "metadata": {
        "id": "view-in-github",
        "colab_type": "text"
      },
      "source": [
        "<a href=\"https://colab.research.google.com/github/harshitaatray/Heart-disease-prediction/blob/main/Heart_Disease_prediction.ipynb\" target=\"_parent\"><img src=\"https://colab.research.google.com/assets/colab-badge.svg\" alt=\"Open In Colab\"/></a>"
      ]
    },
    {
      "cell_type": "code",
      "metadata": {
        "id": "mcR33lO6XYu9",
        "colab": {
          "base_uri": "https://localhost:8080/"
        },
        "outputId": "20c95b33-9c8a-4152-9a49-01ca7a4158a9"
      },
      "source": [
        "from google.colab import drive\n",
        "drive.mount('/content/drive')"
      ],
      "execution_count": null,
      "outputs": [
        {
          "output_type": "stream",
          "name": "stdout",
          "text": [
            "Mounted at /content/drive\n"
          ]
        }
      ]
    },
    {
      "cell_type": "markdown",
      "metadata": {
        "id": "KZG250BpS9V6"
      },
      "source": [
        "Matt: Knn\n",
        "\n",
        "Harshita: Logistic\n",
        "\n",
        "\n",
        "Kevin: Neural Network\n",
        "\n",
        "Le: Random Forest"
      ]
    },
    {
      "cell_type": "code",
      "metadata": {
        "id": "6GvjyprWYBw6"
      },
      "source": [
        "from sklearn.neighbors import KNeighborsClassifier\n",
        "from sklearn import datasets\n",
        "from sklearn.model_selection import train_test_split\n",
        "from statsmodels.formula.api import logit\n",
        "from sklearn.feature_selection import RFE\n",
        "from sklearn.linear_model import LogisticRegression\n",
        "from sklearn.feature_selection import RFECV\n",
        "from sklearn.feature_selection import SelectKBest, chi2\n",
        "from sklearn.tree import DecisionTreeClassifier\n",
        "from sklearn.ensemble import RandomForestClassifier, AdaBoostClassifier\n",
        "from sklearn.preprocessing import StandardScaler, MinMaxScaler\n",
        "from sklearn.neural_network import MLPClassifier\n",
        "from sklearn import preprocessing\n",
        "from sklearn.metrics import confusion_matrix, accuracy_score, recall_score, precision_score, f1_score, auc\n",
        "from sklearn import tree\n",
        "from sklearn.metrics import roc_auc_score, roc_curve, auc\n",
        "import statsmodels.api as sm\n",
        "from sklearn.metrics import classification_report\n",
        "\n",
        "import matplotlib.pyplot as plt\n",
        "import seaborn as sns\n",
        "import numpy as np\n",
        "import pandas as pd\n",
        "from datetime import datetime"
      ],
      "execution_count": null,
      "outputs": []
    },
    {
      "cell_type": "code",
      "metadata": {
        "colab": {
          "base_uri": "https://localhost:8080/"
        },
        "id": "-JGBaPT1kHkD",
        "outputId": "bb07088a-f92e-4988-8844-478b1568223d"
      },
      "source": [
        "confusion_matrix([1,1,0,0,1], [0,1,1,0,1])"
      ],
      "execution_count": null,
      "outputs": [
        {
          "output_type": "execute_result",
          "data": {
            "text/plain": [
              "array([[1, 1],\n",
              "       [1, 2]])"
            ]
          },
          "metadata": {},
          "execution_count": 6
        }
      ]
    },
    {
      "cell_type": "code",
      "metadata": {
        "id": "HbQRS3yMYF9t"
      },
      "source": [
        "heart_df = pd.read_csv('/content/drive/MyDrive/heart_disease_health_indicators_BRFSS2015.csv')"
      ],
      "execution_count": null,
      "outputs": []
    },
    {
      "cell_type": "code",
      "metadata": {
        "colab": {
          "base_uri": "https://localhost:8080/",
          "height": 717
        },
        "id": "SeONebOscV3c",
        "outputId": "22eeaf0f-2f31-45f8-f2d0-18428ddf8167"
      },
      "source": [
        "heart_df.info()\n",
        "heart_df.head()"
      ],
      "execution_count": null,
      "outputs": [
        {
          "output_type": "stream",
          "name": "stdout",
          "text": [
            "<class 'pandas.core.frame.DataFrame'>\n",
            "RangeIndex: 253680 entries, 0 to 253679\n",
            "Data columns (total 22 columns):\n",
            " #   Column                Non-Null Count   Dtype  \n",
            "---  ------                --------------   -----  \n",
            " 0   HeartDiseaseorAttack  253680 non-null  float64\n",
            " 1   HighBP                253680 non-null  float64\n",
            " 2   HighChol              253680 non-null  float64\n",
            " 3   CholCheck             253680 non-null  float64\n",
            " 4   BMI                   253680 non-null  float64\n",
            " 5   Smoker                253680 non-null  float64\n",
            " 6   Stroke                253680 non-null  float64\n",
            " 7   Diabetes              253680 non-null  float64\n",
            " 8   PhysActivity          253680 non-null  float64\n",
            " 9   Fruits                253680 non-null  float64\n",
            " 10  Veggies               253680 non-null  float64\n",
            " 11  HvyAlcoholConsump     253680 non-null  float64\n",
            " 12  AnyHealthcare         253680 non-null  float64\n",
            " 13  NoDocbcCost           253680 non-null  float64\n",
            " 14  GenHlth               253680 non-null  float64\n",
            " 15  MentHlth              253680 non-null  float64\n",
            " 16  PhysHlth              253680 non-null  float64\n",
            " 17  DiffWalk              253680 non-null  float64\n",
            " 18  Sex                   253680 non-null  float64\n",
            " 19  Age                   253680 non-null  float64\n",
            " 20  Education             253680 non-null  float64\n",
            " 21  Income                253680 non-null  float64\n",
            "dtypes: float64(22)\n",
            "memory usage: 42.6 MB\n"
          ]
        },
        {
          "output_type": "execute_result",
          "data": {
            "text/html": [
              "<div>\n",
              "<style scoped>\n",
              "    .dataframe tbody tr th:only-of-type {\n",
              "        vertical-align: middle;\n",
              "    }\n",
              "\n",
              "    .dataframe tbody tr th {\n",
              "        vertical-align: top;\n",
              "    }\n",
              "\n",
              "    .dataframe thead th {\n",
              "        text-align: right;\n",
              "    }\n",
              "</style>\n",
              "<table border=\"1\" class=\"dataframe\">\n",
              "  <thead>\n",
              "    <tr style=\"text-align: right;\">\n",
              "      <th></th>\n",
              "      <th>HeartDiseaseorAttack</th>\n",
              "      <th>HighBP</th>\n",
              "      <th>HighChol</th>\n",
              "      <th>CholCheck</th>\n",
              "      <th>BMI</th>\n",
              "      <th>Smoker</th>\n",
              "      <th>Stroke</th>\n",
              "      <th>Diabetes</th>\n",
              "      <th>PhysActivity</th>\n",
              "      <th>Fruits</th>\n",
              "      <th>Veggies</th>\n",
              "      <th>HvyAlcoholConsump</th>\n",
              "      <th>AnyHealthcare</th>\n",
              "      <th>NoDocbcCost</th>\n",
              "      <th>GenHlth</th>\n",
              "      <th>MentHlth</th>\n",
              "      <th>PhysHlth</th>\n",
              "      <th>DiffWalk</th>\n",
              "      <th>Sex</th>\n",
              "      <th>Age</th>\n",
              "      <th>Education</th>\n",
              "      <th>Income</th>\n",
              "    </tr>\n",
              "  </thead>\n",
              "  <tbody>\n",
              "    <tr>\n",
              "      <th>0</th>\n",
              "      <td>0.0</td>\n",
              "      <td>1.0</td>\n",
              "      <td>1.0</td>\n",
              "      <td>1.0</td>\n",
              "      <td>40.0</td>\n",
              "      <td>1.0</td>\n",
              "      <td>0.0</td>\n",
              "      <td>0.0</td>\n",
              "      <td>0.0</td>\n",
              "      <td>0.0</td>\n",
              "      <td>1.0</td>\n",
              "      <td>0.0</td>\n",
              "      <td>1.0</td>\n",
              "      <td>0.0</td>\n",
              "      <td>5.0</td>\n",
              "      <td>18.0</td>\n",
              "      <td>15.0</td>\n",
              "      <td>1.0</td>\n",
              "      <td>0.0</td>\n",
              "      <td>9.0</td>\n",
              "      <td>4.0</td>\n",
              "      <td>3.0</td>\n",
              "    </tr>\n",
              "    <tr>\n",
              "      <th>1</th>\n",
              "      <td>0.0</td>\n",
              "      <td>0.0</td>\n",
              "      <td>0.0</td>\n",
              "      <td>0.0</td>\n",
              "      <td>25.0</td>\n",
              "      <td>1.0</td>\n",
              "      <td>0.0</td>\n",
              "      <td>0.0</td>\n",
              "      <td>1.0</td>\n",
              "      <td>0.0</td>\n",
              "      <td>0.0</td>\n",
              "      <td>0.0</td>\n",
              "      <td>0.0</td>\n",
              "      <td>1.0</td>\n",
              "      <td>3.0</td>\n",
              "      <td>0.0</td>\n",
              "      <td>0.0</td>\n",
              "      <td>0.0</td>\n",
              "      <td>0.0</td>\n",
              "      <td>7.0</td>\n",
              "      <td>6.0</td>\n",
              "      <td>1.0</td>\n",
              "    </tr>\n",
              "    <tr>\n",
              "      <th>2</th>\n",
              "      <td>0.0</td>\n",
              "      <td>1.0</td>\n",
              "      <td>1.0</td>\n",
              "      <td>1.0</td>\n",
              "      <td>28.0</td>\n",
              "      <td>0.0</td>\n",
              "      <td>0.0</td>\n",
              "      <td>0.0</td>\n",
              "      <td>0.0</td>\n",
              "      <td>1.0</td>\n",
              "      <td>0.0</td>\n",
              "      <td>0.0</td>\n",
              "      <td>1.0</td>\n",
              "      <td>1.0</td>\n",
              "      <td>5.0</td>\n",
              "      <td>30.0</td>\n",
              "      <td>30.0</td>\n",
              "      <td>1.0</td>\n",
              "      <td>0.0</td>\n",
              "      <td>9.0</td>\n",
              "      <td>4.0</td>\n",
              "      <td>8.0</td>\n",
              "    </tr>\n",
              "    <tr>\n",
              "      <th>3</th>\n",
              "      <td>0.0</td>\n",
              "      <td>1.0</td>\n",
              "      <td>0.0</td>\n",
              "      <td>1.0</td>\n",
              "      <td>27.0</td>\n",
              "      <td>0.0</td>\n",
              "      <td>0.0</td>\n",
              "      <td>0.0</td>\n",
              "      <td>1.0</td>\n",
              "      <td>1.0</td>\n",
              "      <td>1.0</td>\n",
              "      <td>0.0</td>\n",
              "      <td>1.0</td>\n",
              "      <td>0.0</td>\n",
              "      <td>2.0</td>\n",
              "      <td>0.0</td>\n",
              "      <td>0.0</td>\n",
              "      <td>0.0</td>\n",
              "      <td>0.0</td>\n",
              "      <td>11.0</td>\n",
              "      <td>3.0</td>\n",
              "      <td>6.0</td>\n",
              "    </tr>\n",
              "    <tr>\n",
              "      <th>4</th>\n",
              "      <td>0.0</td>\n",
              "      <td>1.0</td>\n",
              "      <td>1.0</td>\n",
              "      <td>1.0</td>\n",
              "      <td>24.0</td>\n",
              "      <td>0.0</td>\n",
              "      <td>0.0</td>\n",
              "      <td>0.0</td>\n",
              "      <td>1.0</td>\n",
              "      <td>1.0</td>\n",
              "      <td>1.0</td>\n",
              "      <td>0.0</td>\n",
              "      <td>1.0</td>\n",
              "      <td>0.0</td>\n",
              "      <td>2.0</td>\n",
              "      <td>3.0</td>\n",
              "      <td>0.0</td>\n",
              "      <td>0.0</td>\n",
              "      <td>0.0</td>\n",
              "      <td>11.0</td>\n",
              "      <td>5.0</td>\n",
              "      <td>4.0</td>\n",
              "    </tr>\n",
              "  </tbody>\n",
              "</table>\n",
              "</div>"
            ],
            "text/plain": [
              "   HeartDiseaseorAttack  HighBP  HighChol  ...   Age  Education  Income\n",
              "0                   0.0     1.0       1.0  ...   9.0        4.0     3.0\n",
              "1                   0.0     0.0       0.0  ...   7.0        6.0     1.0\n",
              "2                   0.0     1.0       1.0  ...   9.0        4.0     8.0\n",
              "3                   0.0     1.0       0.0  ...  11.0        3.0     6.0\n",
              "4                   0.0     1.0       1.0  ...  11.0        5.0     4.0\n",
              "\n",
              "[5 rows x 22 columns]"
            ]
          },
          "metadata": {},
          "execution_count": 8
        }
      ]
    },
    {
      "cell_type": "markdown",
      "metadata": {
        "id": "dE8rfXz7e0KS"
      },
      "source": [
        "Exploratory Data Analysis"
      ]
    },
    {
      "cell_type": "code",
      "metadata": {
        "colab": {
          "base_uri": "https://localhost:8080/",
          "height": 299
        },
        "id": "_JBYJ2mEe3Jq",
        "outputId": "953f7214-510c-494b-f19a-307b48b9c801"
      },
      "source": [
        "plt.pie(heart_df['HeartDiseaseorAttack'].value_counts(),  labels=['Healthy', 'Not Healthy'], autopct='%1.1f%%')\n",
        "\n",
        "heart_df['HeartDiseaseorAttack'].value_counts()"
      ],
      "execution_count": null,
      "outputs": [
        {
          "output_type": "execute_result",
          "data": {
            "text/plain": [
              "0.0    229787\n",
              "1.0     23893\n",
              "Name: HeartDiseaseorAttack, dtype: int64"
            ]
          },
          "metadata": {},
          "execution_count": 9
        },
        {
          "output_type": "display_data",
          "data": {
            "image/png": "[encoded data removed]",
            "text/plain": [
              "<Figure size 432x288 with 1 Axes>"
            ]
          },
          "metadata": {}
        }
      ]
    },
    {
      "cell_type": "code",
      "metadata": {
        "colab": {
          "base_uri": "https://localhost:8080/",
          "height": 317
        },
        "id": "R6RAnioysBVY",
        "outputId": "8784d264-01d8-425b-955a-f405103e385a"
      },
      "source": [
        "round(heart_df.describe(),3)"
      ],
      "execution_count": null,
      "outputs": [
        {
          "output_type": "execute_result",
          "data": {
            "text/html": [
              "<div>\n",
              "<style scoped>\n",
              "    .dataframe tbody tr th:only-of-type {\n",
              "        vertical-align: middle;\n",
              "    }\n",
              "\n",
              "    .dataframe tbody tr th {\n",
              "        vertical-align: top;\n",
              "    }\n",
              "\n",
              "    .dataframe thead th {\n",
              "        text-align: right;\n",
              "    }\n",
              "</style>\n",
              "<table border=\"1\" class=\"dataframe\">\n",
              "  <thead>\n",
              "    <tr style=\"text-align: right;\">\n",
              "      <th></th>\n",
              "      <th>HeartDiseaseorAttack</th>\n",
              "      <th>HighBP</th>\n",
              "      <th>HighChol</th>\n",
              "      <th>CholCheck</th>\n",
              "      <th>BMI</th>\n",
              "      <th>Smoker</th>\n",
              "      <th>Stroke</th>\n",
              "      <th>Diabetes</th>\n",
              "      <th>PhysActivity</th>\n",
              "      <th>Fruits</th>\n",
              "      <th>Veggies</th>\n",
              "      <th>HvyAlcoholConsump</th>\n",
              "      <th>AnyHealthcare</th>\n",
              "      <th>NoDocbcCost</th>\n",
              "      <th>GenHlth</th>\n",
              "      <th>MentHlth</th>\n",
              "      <th>PhysHlth</th>\n",
              "      <th>DiffWalk</th>\n",
              "      <th>Sex</th>\n",
              "      <th>Age</th>\n",
              "      <th>Education</th>\n",
              "      <th>Income</th>\n",
              "    </tr>\n",
              "  </thead>\n",
              "  <tbody>\n",
              "    <tr>\n",
              "      <th>count</th>\n",
              "      <td>253680.000</td>\n",
              "      <td>253680.000</td>\n",
              "      <td>253680.000</td>\n",
              "      <td>253680.000</td>\n",
              "      <td>253680.000</td>\n",
              "      <td>253680.000</td>\n",
              "      <td>253680.000</td>\n",
              "      <td>253680.000</td>\n",
              "      <td>253680.000</td>\n",
              "      <td>253680.000</td>\n",
              "      <td>253680.000</td>\n",
              "      <td>253680.000</td>\n",
              "      <td>253680.000</td>\n",
              "      <td>253680.000</td>\n",
              "      <td>253680.000</td>\n",
              "      <td>253680.000</td>\n",
              "      <td>253680.000</td>\n",
              "      <td>253680.000</td>\n",
              "      <td>253680.000</td>\n",
              "      <td>253680.000</td>\n",
              "      <td>253680.000</td>\n",
              "      <td>253680.000</td>\n",
              "    </tr>\n",
              "    <tr>\n",
              "      <th>mean</th>\n",
              "      <td>0.094</td>\n",
              "      <td>0.429</td>\n",
              "      <td>0.424</td>\n",
              "      <td>0.963</td>\n",
              "      <td>28.382</td>\n",
              "      <td>0.443</td>\n",
              "      <td>0.041</td>\n",
              "      <td>0.297</td>\n",
              "      <td>0.757</td>\n",
              "      <td>0.634</td>\n",
              "      <td>0.811</td>\n",
              "      <td>0.056</td>\n",
              "      <td>0.951</td>\n",
              "      <td>0.084</td>\n",
              "      <td>2.511</td>\n",
              "      <td>3.185</td>\n",
              "      <td>4.242</td>\n",
              "      <td>0.168</td>\n",
              "      <td>0.440</td>\n",
              "      <td>8.032</td>\n",
              "      <td>5.050</td>\n",
              "      <td>6.054</td>\n",
              "    </tr>\n",
              "    <tr>\n",
              "      <th>std</th>\n",
              "      <td>0.292</td>\n",
              "      <td>0.495</td>\n",
              "      <td>0.494</td>\n",
              "      <td>0.190</td>\n",
              "      <td>6.609</td>\n",
              "      <td>0.497</td>\n",
              "      <td>0.197</td>\n",
              "      <td>0.698</td>\n",
              "      <td>0.429</td>\n",
              "      <td>0.482</td>\n",
              "      <td>0.391</td>\n",
              "      <td>0.230</td>\n",
              "      <td>0.216</td>\n",
              "      <td>0.278</td>\n",
              "      <td>1.068</td>\n",
              "      <td>7.413</td>\n",
              "      <td>8.718</td>\n",
              "      <td>0.374</td>\n",
              "      <td>0.496</td>\n",
              "      <td>3.054</td>\n",
              "      <td>0.986</td>\n",
              "      <td>2.071</td>\n",
              "    </tr>\n",
              "    <tr>\n",
              "      <th>min</th>\n",
              "      <td>0.000</td>\n",
              "      <td>0.000</td>\n",
              "      <td>0.000</td>\n",
              "      <td>0.000</td>\n",
              "      <td>12.000</td>\n",
              "      <td>0.000</td>\n",
              "      <td>0.000</td>\n",
              "      <td>0.000</td>\n",
              "      <td>0.000</td>\n",
              "      <td>0.000</td>\n",
              "      <td>0.000</td>\n",
              "      <td>0.000</td>\n",
              "      <td>0.000</td>\n",
              "      <td>0.000</td>\n",
              "      <td>1.000</td>\n",
              "      <td>0.000</td>\n",
              "      <td>0.000</td>\n",
              "      <td>0.000</td>\n",
              "      <td>0.000</td>\n",
              "      <td>1.000</td>\n",
              "      <td>1.000</td>\n",
              "      <td>1.000</td>\n",
              "    </tr>\n",
              "    <tr>\n",
              "      <th>25%</th>\n",
              "      <td>0.000</td>\n",
              "      <td>0.000</td>\n",
              "      <td>0.000</td>\n",
              "      <td>1.000</td>\n",
              "      <td>24.000</td>\n",
              "      <td>0.000</td>\n",
              "      <td>0.000</td>\n",
              "      <td>0.000</td>\n",
              "      <td>1.000</td>\n",
              "      <td>0.000</td>\n",
              "      <td>1.000</td>\n",
              "      <td>0.000</td>\n",
              "      <td>1.000</td>\n",
              "      <td>0.000</td>\n",
              "      <td>2.000</td>\n",
              "      <td>0.000</td>\n",
              "      <td>0.000</td>\n",
              "      <td>0.000</td>\n",
              "      <td>0.000</td>\n",
              "      <td>6.000</td>\n",
              "      <td>4.000</td>\n",
              "      <td>5.000</td>\n",
              "    </tr>\n",
              "    <tr>\n",
              "      <th>50%</th>\n",
              "      <td>0.000</td>\n",
              "      <td>0.000</td>\n",
              "      <td>0.000</td>\n",
              "      <td>1.000</td>\n",
              "      <td>27.000</td>\n",
              "      <td>0.000</td>\n",
              "      <td>0.000</td>\n",
              "      <td>0.000</td>\n",
              "      <td>1.000</td>\n",
              "      <td>1.000</td>\n",
              "      <td>1.000</td>\n",
              "      <td>0.000</td>\n",
              "      <td>1.000</td>\n",
              "      <td>0.000</td>\n",
              "      <td>2.000</td>\n",
              "      <td>0.000</td>\n",
              "      <td>0.000</td>\n",
              "      <td>0.000</td>\n",
              "      <td>0.000</td>\n",
              "      <td>8.000</td>\n",
              "      <td>5.000</td>\n",
              "      <td>7.000</td>\n",
              "    </tr>\n",
              "    <tr>\n",
              "      <th>75%</th>\n",
              "      <td>0.000</td>\n",
              "      <td>1.000</td>\n",
              "      <td>1.000</td>\n",
              "      <td>1.000</td>\n",
              "      <td>31.000</td>\n",
              "      <td>1.000</td>\n",
              "      <td>0.000</td>\n",
              "      <td>0.000</td>\n",
              "      <td>1.000</td>\n",
              "      <td>1.000</td>\n",
              "      <td>1.000</td>\n",
              "      <td>0.000</td>\n",
              "      <td>1.000</td>\n",
              "      <td>0.000</td>\n",
              "      <td>3.000</td>\n",
              "      <td>2.000</td>\n",
              "      <td>3.000</td>\n",
              "      <td>0.000</td>\n",
              "      <td>1.000</td>\n",
              "      <td>10.000</td>\n",
              "      <td>6.000</td>\n",
              "      <td>8.000</td>\n",
              "    </tr>\n",
              "    <tr>\n",
              "      <th>max</th>\n",
              "      <td>1.000</td>\n",
              "      <td>1.000</td>\n",
              "      <td>1.000</td>\n",
              "      <td>1.000</td>\n",
              "      <td>98.000</td>\n",
              "      <td>1.000</td>\n",
              "      <td>1.000</td>\n",
              "      <td>2.000</td>\n",
              "      <td>1.000</td>\n",
              "      <td>1.000</td>\n",
              "      <td>1.000</td>\n",
              "      <td>1.000</td>\n",
              "      <td>1.000</td>\n",
              "      <td>1.000</td>\n",
              "      <td>5.000</td>\n",
              "      <td>30.000</td>\n",
              "      <td>30.000</td>\n",
              "      <td>1.000</td>\n",
              "      <td>1.000</td>\n",
              "      <td>13.000</td>\n",
              "      <td>6.000</td>\n",
              "      <td>8.000</td>\n",
              "    </tr>\n",
              "  </tbody>\n",
              "</table>\n",
              "</div>"
            ],
            "text/plain": [
              "       HeartDiseaseorAttack      HighBP  ...   Education      Income\n",
              "count            253680.000  253680.000  ...  253680.000  253680.000\n",
              "mean                  0.094       0.429  ...       5.050       6.054\n",
              "std                   0.292       0.495  ...       0.986       2.071\n",
              "min                   0.000       0.000  ...       1.000       1.000\n",
              "25%                   0.000       0.000  ...       4.000       5.000\n",
              "50%                   0.000       0.000  ...       5.000       7.000\n",
              "75%                   0.000       1.000  ...       6.000       8.000\n",
              "max                   1.000       1.000  ...       6.000       8.000\n",
              "\n",
              "[8 rows x 22 columns]"
            ]
          },
          "metadata": {},
          "execution_count": 10
        }
      ]
    },
    {
      "cell_type": "code",
      "metadata": {
        "colab": {
          "base_uri": "https://localhost:8080/",
          "height": 299
        },
        "id": "cqnvdS_Fe3Um",
        "outputId": "7492fea7-1c08-483b-b153-e79a87ef8d9f"
      },
      "source": [
        "plt.pie(heart_df['Smoker'].value_counts(),  labels=['Non Smoker', 'Smoker'], autopct='%1.1f%%')\n",
        "heart_df['Smoker'].value_counts()"
      ],
      "execution_count": null,
      "outputs": [
        {
          "output_type": "execute_result",
          "data": {
            "text/plain": [
              "0.0    141257\n",
              "1.0    112423\n",
              "Name: Smoker, dtype: int64"
            ]
          },
          "metadata": {},
          "execution_count": 11
        },
        {
          "output_type": "display_data",
          "data": {
            "image/png": "[encoded data removed]",
            "text/plain": [
              "<Figure size 432x288 with 1 Axes>"
            ]
          },
          "metadata": {}
        }
      ]
    },
    {
      "cell_type": "code",
      "metadata": {
        "colab": {
          "base_uri": "https://localhost:8080/",
          "height": 323
        },
        "id": "9nDxH1Pfe3XW",
        "outputId": "a87afb2a-6ba0-404e-f3c8-a18f7af191eb"
      },
      "source": [
        "fig, (ax1, ax2, ax3) = plt.subplots(3, 1)\n",
        "\n",
        "fig.suptitle('Histogram of Patients in dataset', y = 1.05)\n",
        "ax1.hist(heart_df['Age'])\n",
        "ax1.set_ylabel(\"Age\")\n",
        "ax2.hist(heart_df['Education'])\n",
        "ax2.set_ylabel('Education')\n",
        "ax3.hist(heart_df['Income'])\n",
        "ax3.set_ylabel('Income')\n",
        "fig.tight_layout(h_pad = 0, w_pad=5, pad = 1.08)\n",
        "plt.show()"
      ],
      "execution_count": null,
      "outputs": [
        {
          "output_type": "display_data",
          "data": {
            "image/png": "[encoded data removed]",
            "text/plain": [
              "<Figure size 432x288 with 3 Axes>"
            ]
          },
          "metadata": {
            "needs_background": "light"
          }
        }
      ]
    },
    {
      "cell_type": "code",
      "metadata": {
        "id": "YW-_iuCGxdLt",
        "colab": {
          "base_uri": "https://localhost:8080/"
        },
        "outputId": "fde05d5f-4504-48d1-a196-74c6c6f2ca0c"
      },
      "source": [
        "heart_df['Age'].mean()"
      ],
      "execution_count": null,
      "outputs": [
        {
          "output_type": "execute_result",
          "data": {
            "text/plain": [
              "8.032119205298013"
            ]
          },
          "metadata": {},
          "execution_count": 13
        }
      ]
    },
    {
      "cell_type": "code",
      "metadata": {
        "id": "ZOwkXZnceUJ3"
      },
      "source": [
        "plt.rcParams['agg.path.chunksize'] = 10000"
      ],
      "execution_count": null,
      "outputs": []
    },
    {
      "cell_type": "code",
      "metadata": {
        "colab": {
          "base_uri": "https://localhost:8080/",
          "height": 475
        },
        "id": "XWFDndflr-SK",
        "outputId": "c1a7324a-904d-4549-cab2-33d760355810"
      },
      "source": [
        "fig, (ax1, ax2) = plt.subplots(2, 1, figsize = (10,7), sharex = True)\n",
        "ax1.hist(heart_df['MentHlth'])\n",
        "ax2.hist(heart_df['PhysHlth'])\n",
        "ax1.title.set_text('Mental Health')\n",
        "ax2.title.set_text('Physical Health')\n",
        "ax2.set_xlabel('Days in the last 30 days the respondent feeling Unwell')\n",
        "ax1.set_ylabel('Number of Responses')\n",
        "ax2.set_ylabel('Number of Responses')\n"
      ],
      "execution_count": null,
      "outputs": [
        {
          "output_type": "execute_result",
          "data": {
            "text/plain": [
              "Text(0, 0.5, 'Number of Responses')"
            ]
          },
          "metadata": {},
          "execution_count": 15
        },
        {
          "output_type": "display_data",
          "data": {
            "image/png": "[encoded data removed]",
            "text/plain": [
              "<Figure size 720x504 with 2 Axes>"
            ]
          },
          "metadata": {
            "needs_background": "light"
          }
        }
      ]
    },
    {
      "cell_type": "code",
      "metadata": {
        "colab": {
          "base_uri": "https://localhost:8080/",
          "height": 494
        },
        "id": "BG7jU7UQfxGE",
        "outputId": "956522e3-9bec-44d8-8578-aa4f59c8af98"
      },
      "source": [
        "k = 12 #number of variables for heatmap\n",
        "cols = np.abs(heart_df.corr()).nlargest(k, 'HeartDiseaseorAttack')['HeartDiseaseorAttack'].index\n",
        "cm = heart_df[cols].corr()\n",
        "plt.figure(figsize=(10,6))\n",
        "sns.heatmap(cm, annot=True, cmap = 'viridis')"
      ],
      "execution_count": null,
      "outputs": [
        {
          "output_type": "execute_result",
          "data": {
            "text/plain": [
              "<matplotlib.axes._subplots.AxesSubplot at 0x7fadd7d4afd0>"
            ]
          },
          "metadata": {},
          "execution_count": 16
        },
        {
          "output_type": "display_data",
          "data": {
            "image/png": "[encoded data removed]",
            "text/plain": [
              "<Figure size 720x432 with 2 Axes>"
            ]
          },
          "metadata": {
            "needs_background": "light"
          }
        }
      ]
    },
    {
      "cell_type": "markdown",
      "metadata": {
        "id": "2wJfUcizyBb8"
      },
      "source": [
        "Data Preprocessing"
      ]
    },
    {
      "cell_type": "code",
      "metadata": {
        "id": "UMpCektZzocN"
      },
      "source": [
        "def entropy(arr):\n",
        "  arr = pd.DataFrame(arr)\n",
        "  temp = np.array(arr.value_counts()/arr.shape[0])\n",
        "  dist_vals = temp.shape[0]\n",
        "  ent = -sum(temp*np.log2(temp))\n",
        "  return (ent, dist_vals)"
      ],
      "execution_count": null,
      "outputs": []
    },
    {
      "cell_type": "code",
      "metadata": {
        "colab": {
          "base_uri": "https://localhost:8080/"
        },
        "id": "jfj2oBjI1NYl",
        "outputId": "0b27ccfd-496b-4291-f41a-2c4ed0dd4864"
      },
      "source": [
        "e_test = [0,0,0,0,1,1,1,1,3,3,3,3,4,4,4,4]\n",
        "entropy(e_test)"
      ],
      "execution_count": null,
      "outputs": [
        {
          "output_type": "execute_result",
          "data": {
            "text/plain": [
              "(2.0, 4)"
            ]
          },
          "metadata": {},
          "execution_count": 18
        }
      ]
    },
    {
      "cell_type": "code",
      "metadata": {
        "colab": {
          "base_uri": "https://localhost:8080/"
        },
        "id": "jOv9Uvol2lh7",
        "outputId": "45bb36a0-7213-4741-c42a-4e9772d7e54e"
      },
      "source": [
        "variable = heart_df.columns\n",
        "entropy_values = []\n",
        "dist_values = []\n",
        "\n",
        "for i in variable:\n",
        "  out = entropy(heart_df[i])\n",
        "  entropy_values.append(out[0])\n",
        "  dist_values.append(out[1])\n",
        "\n",
        "\n",
        "entropy_df = pd.DataFrame({'variables': variable, 'Entropy': entropy_values, 'Max bits': np.log2(dist_values), 'ratio': entropy_values/np.log2(dist_values)})\n",
        "print(entropy_df)"
      ],
      "execution_count": null,
      "outputs": [
        {
          "output_type": "stream",
          "name": "stdout",
          "text": [
            "               variables   Entropy  Max bits     ratio\n",
            "0   HeartDiseaseorAttack  0.450289  1.000000  0.450289\n",
            "1                 HighBP  0.985406  1.000000  0.985406\n",
            "2               HighChol  0.983323  1.000000  0.983323\n",
            "3              CholCheck  0.229916  1.000000  0.229916\n",
            "4                    BMI  4.529840  6.392317  0.708638\n",
            "5                 Smoker  0.990661  1.000000  0.990661\n",
            "6                 Stroke  0.244903  1.000000  0.244903\n",
            "7               Diabetes  0.710027  1.584963  0.447977\n",
            "8           PhysActivity  0.800741  1.000000  0.800741\n",
            "9                 Fruits  0.947348  1.000000  0.947348\n",
            "10               Veggies  0.698492  1.000000  0.698492\n",
            "11     HvyAlcoholConsump  0.312159  1.000000  0.312159\n",
            "12         AnyHealthcare  0.281909  1.000000  0.281909\n",
            "13           NoDocbcCost  0.416728  1.000000  0.416728\n",
            "14               GenHlth  2.077863  2.321928  0.894887\n",
            "15              MentHlth  1.985370  4.954196  0.400745\n",
            "16              PhysHlth  2.269090  4.954196  0.458014\n",
            "17              DiffWalk  0.653625  1.000000  0.653625\n",
            "18                   Sex  0.989706  1.000000  0.989706\n",
            "19                   Age  3.546637  3.700440  0.958437\n",
            "20             Education  1.815540  2.584963  0.702347\n",
            "21                Income  2.632413  3.000000  0.877471\n"
          ]
        }
      ]
    },
    {
      "cell_type": "code",
      "metadata": {
        "id": "mh76ALx_e3Zi",
        "colab": {
          "base_uri": "https://localhost:8080/"
        },
        "outputId": "99be8386-9a73-434d-efb6-345efc0f0988"
      },
      "source": [
        "y = heart_df['HeartDiseaseorAttack']\n",
        "X = heart_df.drop('HeartDiseaseorAttack', axis = 1)\n",
        "\n",
        "for i in X.columns:\n",
        "  X[i]= (X[i]-min(X[i]))/(max(X[i]-min(X[i])))\n",
        "\n",
        "X_train, X_test, y_train, y_test = train_test_split(X,y, test_size = .33, random_state=6000, stratify=y)\n",
        "\n",
        "#deal with the imbalanced data\n",
        "from imblearn.under_sampling import RandomUnderSampler\n",
        "undersample = RandomUnderSampler(sampling_strategy='majority')\n",
        "X_train_under, y_train_under = undersample.fit_resample(X_train,y_train)\n",
        "from collections import Counter\n",
        "print('before', Counter(y_train))\n",
        "print('after:', Counter(y_train_under))"
      ],
      "execution_count": null,
      "outputs": [
        {
          "output_type": "stream",
          "name": "stdout",
          "text": [
            "before Counter({0.0: 153957, 1.0: 16008})\n",
            "after: Counter({0.0: 16008, 1.0: 16008})\n"
          ]
        }
      ]
    },
    {
      "cell_type": "code",
      "metadata": {
        "colab": {
          "base_uri": "https://localhost:8080/",
          "height": 317
        },
        "id": "W2kTtP-1tKIf",
        "outputId": "14757079-d0d1-4bad-c006-03c55a391483"
      },
      "source": [
        "X.describe()"
      ],
      "execution_count": null,
      "outputs": [
        {
          "output_type": "execute_result",
          "data": {
            "text/html": [
              "<div>\n",
              "<style scoped>\n",
              "    .dataframe tbody tr th:only-of-type {\n",
              "        vertical-align: middle;\n",
              "    }\n",
              "\n",
              "    .dataframe tbody tr th {\n",
              "        vertical-align: top;\n",
              "    }\n",
              "\n",
              "    .dataframe thead th {\n",
              "        text-align: right;\n",
              "    }\n",
              "</style>\n",
              "<table border=\"1\" class=\"dataframe\">\n",
              "  <thead>\n",
              "    <tr style=\"text-align: right;\">\n",
              "      <th></th>\n",
              "      <th>HighBP</th>\n",
              "      <th>HighChol</th>\n",
              "      <th>CholCheck</th>\n",
              "      <th>BMI</th>\n",
              "      <th>Smoker</th>\n",
              "      <th>Stroke</th>\n",
              "      <th>Diabetes</th>\n",
              "      <th>PhysActivity</th>\n",
              "      <th>Fruits</th>\n",
              "      <th>Veggies</th>\n",
              "      <th>HvyAlcoholConsump</th>\n",
              "      <th>AnyHealthcare</th>\n",
              "      <th>NoDocbcCost</th>\n",
              "      <th>GenHlth</th>\n",
              "      <th>MentHlth</th>\n",
              "      <th>PhysHlth</th>\n",
              "      <th>DiffWalk</th>\n",
              "      <th>Sex</th>\n",
              "      <th>Age</th>\n",
              "      <th>Education</th>\n",
              "      <th>Income</th>\n",
              "    </tr>\n",
              "  </thead>\n",
              "  <tbody>\n",
              "    <tr>\n",
              "      <th>count</th>\n",
              "      <td>253680.000000</td>\n",
              "      <td>253680.000000</td>\n",
              "      <td>253680.000000</td>\n",
              "      <td>253680.000000</td>\n",
              "      <td>253680.000000</td>\n",
              "      <td>253680.000000</td>\n",
              "      <td>253680.000000</td>\n",
              "      <td>253680.000000</td>\n",
              "      <td>253680.000000</td>\n",
              "      <td>253680.000000</td>\n",
              "      <td>253680.000000</td>\n",
              "      <td>253680.000000</td>\n",
              "      <td>253680.000000</td>\n",
              "      <td>253680.000000</td>\n",
              "      <td>253680.000000</td>\n",
              "      <td>253680.000000</td>\n",
              "      <td>253680.000000</td>\n",
              "      <td>253680.000000</td>\n",
              "      <td>253680.000000</td>\n",
              "      <td>253680.000000</td>\n",
              "      <td>253680.000000</td>\n",
              "    </tr>\n",
              "    <tr>\n",
              "      <th>mean</th>\n",
              "      <td>0.429001</td>\n",
              "      <td>0.424121</td>\n",
              "      <td>0.962670</td>\n",
              "      <td>0.190493</td>\n",
              "      <td>0.443169</td>\n",
              "      <td>0.040571</td>\n",
              "      <td>0.148461</td>\n",
              "      <td>0.756544</td>\n",
              "      <td>0.634256</td>\n",
              "      <td>0.811420</td>\n",
              "      <td>0.056197</td>\n",
              "      <td>0.951053</td>\n",
              "      <td>0.084177</td>\n",
              "      <td>0.377848</td>\n",
              "      <td>0.106159</td>\n",
              "      <td>0.141403</td>\n",
              "      <td>0.168224</td>\n",
              "      <td>0.440342</td>\n",
              "      <td>0.586010</td>\n",
              "      <td>0.810087</td>\n",
              "      <td>0.721982</td>\n",
              "    </tr>\n",
              "    <tr>\n",
              "      <th>std</th>\n",
              "      <td>0.494934</td>\n",
              "      <td>0.494210</td>\n",
              "      <td>0.189571</td>\n",
              "      <td>0.076845</td>\n",
              "      <td>0.496761</td>\n",
              "      <td>0.197294</td>\n",
              "      <td>0.349080</td>\n",
              "      <td>0.429169</td>\n",
              "      <td>0.481639</td>\n",
              "      <td>0.391175</td>\n",
              "      <td>0.230302</td>\n",
              "      <td>0.215759</td>\n",
              "      <td>0.277654</td>\n",
              "      <td>0.267119</td>\n",
              "      <td>0.247095</td>\n",
              "      <td>0.290598</td>\n",
              "      <td>0.374066</td>\n",
              "      <td>0.496429</td>\n",
              "      <td>0.254518</td>\n",
              "      <td>0.197155</td>\n",
              "      <td>0.295878</td>\n",
              "    </tr>\n",
              "    <tr>\n",
              "      <th>min</th>\n",
              "      <td>0.000000</td>\n",
              "      <td>0.000000</td>\n",
              "      <td>0.000000</td>\n",
              "      <td>0.000000</td>\n",
              "      <td>0.000000</td>\n",
              "      <td>0.000000</td>\n",
              "      <td>0.000000</td>\n",
              "      <td>0.000000</td>\n",
              "      <td>0.000000</td>\n",
              "      <td>0.000000</td>\n",
              "      <td>0.000000</td>\n",
              "      <td>0.000000</td>\n",
              "      <td>0.000000</td>\n",
              "      <td>0.000000</td>\n",
              "      <td>0.000000</td>\n",
              "      <td>0.000000</td>\n",
              "      <td>0.000000</td>\n",
              "      <td>0.000000</td>\n",
              "      <td>0.000000</td>\n",
              "      <td>0.000000</td>\n",
              "      <td>0.000000</td>\n",
              "    </tr>\n",
              "    <tr>\n",
              "      <th>25%</th>\n",
              "      <td>0.000000</td>\n",
              "      <td>0.000000</td>\n",
              "      <td>1.000000</td>\n",
              "      <td>0.139535</td>\n",
              "      <td>0.000000</td>\n",
              "      <td>0.000000</td>\n",
              "      <td>0.000000</td>\n",
              "      <td>1.000000</td>\n",
              "      <td>0.000000</td>\n",
              "      <td>1.000000</td>\n",
              "      <td>0.000000</td>\n",
              "      <td>1.000000</td>\n",
              "      <td>0.000000</td>\n",
              "      <td>0.250000</td>\n",
              "      <td>0.000000</td>\n",
              "      <td>0.000000</td>\n",
              "      <td>0.000000</td>\n",
              "      <td>0.000000</td>\n",
              "      <td>0.416667</td>\n",
              "      <td>0.600000</td>\n",
              "      <td>0.571429</td>\n",
              "    </tr>\n",
              "    <tr>\n",
              "      <th>50%</th>\n",
              "      <td>0.000000</td>\n",
              "      <td>0.000000</td>\n",
              "      <td>1.000000</td>\n",
              "      <td>0.174419</td>\n",
              "      <td>0.000000</td>\n",
              "      <td>0.000000</td>\n",
              "      <td>0.000000</td>\n",
              "      <td>1.000000</td>\n",
              "      <td>1.000000</td>\n",
              "      <td>1.000000</td>\n",
              "      <td>0.000000</td>\n",
              "      <td>1.000000</td>\n",
              "      <td>0.000000</td>\n",
              "      <td>0.250000</td>\n",
              "      <td>0.000000</td>\n",
              "      <td>0.000000</td>\n",
              "      <td>0.000000</td>\n",
              "      <td>0.000000</td>\n",
              "      <td>0.583333</td>\n",
              "      <td>0.800000</td>\n",
              "      <td>0.857143</td>\n",
              "    </tr>\n",
              "    <tr>\n",
              "      <th>75%</th>\n",
              "      <td>1.000000</td>\n",
              "      <td>1.000000</td>\n",
              "      <td>1.000000</td>\n",
              "      <td>0.220930</td>\n",
              "      <td>1.000000</td>\n",
              "      <td>0.000000</td>\n",
              "      <td>0.000000</td>\n",
              "      <td>1.000000</td>\n",
              "      <td>1.000000</td>\n",
              "      <td>1.000000</td>\n",
              "      <td>0.000000</td>\n",
              "      <td>1.000000</td>\n",
              "      <td>0.000000</td>\n",
              "      <td>0.500000</td>\n",
              "      <td>0.066667</td>\n",
              "      <td>0.100000</td>\n",
              "      <td>0.000000</td>\n",
              "      <td>1.000000</td>\n",
              "      <td>0.750000</td>\n",
              "      <td>1.000000</td>\n",
              "      <td>1.000000</td>\n",
              "    </tr>\n",
              "    <tr>\n",
              "      <th>max</th>\n",
              "      <td>1.000000</td>\n",
              "      <td>1.000000</td>\n",
              "      <td>1.000000</td>\n",
              "      <td>1.000000</td>\n",
              "      <td>1.000000</td>\n",
              "      <td>1.000000</td>\n",
              "      <td>1.000000</td>\n",
              "      <td>1.000000</td>\n",
              "      <td>1.000000</td>\n",
              "      <td>1.000000</td>\n",
              "      <td>1.000000</td>\n",
              "      <td>1.000000</td>\n",
              "      <td>1.000000</td>\n",
              "      <td>1.000000</td>\n",
              "      <td>1.000000</td>\n",
              "      <td>1.000000</td>\n",
              "      <td>1.000000</td>\n",
              "      <td>1.000000</td>\n",
              "      <td>1.000000</td>\n",
              "      <td>1.000000</td>\n",
              "      <td>1.000000</td>\n",
              "    </tr>\n",
              "  </tbody>\n",
              "</table>\n",
              "</div>"
            ],
            "text/plain": [
              "              HighBP       HighChol  ...      Education         Income\n",
              "count  253680.000000  253680.000000  ...  253680.000000  253680.000000\n",
              "mean        0.429001       0.424121  ...       0.810087       0.721982\n",
              "std         0.494934       0.494210  ...       0.197155       0.295878\n",
              "min         0.000000       0.000000  ...       0.000000       0.000000\n",
              "25%         0.000000       0.000000  ...       0.600000       0.571429\n",
              "50%         0.000000       0.000000  ...       0.800000       0.857143\n",
              "75%         1.000000       1.000000  ...       1.000000       1.000000\n",
              "max         1.000000       1.000000  ...       1.000000       1.000000\n",
              "\n",
              "[8 rows x 21 columns]"
            ]
          },
          "metadata": {},
          "execution_count": 21
        }
      ]
    },
    {
      "cell_type": "code",
      "metadata": {
        "colab": {
          "base_uri": "https://localhost:8080/",
          "height": 317
        },
        "id": "TK1ceFL9tKhq",
        "outputId": "25c8ea91-8a61-4155-9b5b-12e8aa464214"
      },
      "source": [
        "X_train.describe()"
      ],
      "execution_count": null,
      "outputs": [
        {
          "output_type": "execute_result",
          "data": {
            "text/html": [
              "<div>\n",
              "<style scoped>\n",
              "    .dataframe tbody tr th:only-of-type {\n",
              "        vertical-align: middle;\n",
              "    }\n",
              "\n",
              "    .dataframe tbody tr th {\n",
              "        vertical-align: top;\n",
              "    }\n",
              "\n",
              "    .dataframe thead th {\n",
              "        text-align: right;\n",
              "    }\n",
              "</style>\n",
              "<table border=\"1\" class=\"dataframe\">\n",
              "  <thead>\n",
              "    <tr style=\"text-align: right;\">\n",
              "      <th></th>\n",
              "      <th>HighBP</th>\n",
              "      <th>HighChol</th>\n",
              "      <th>CholCheck</th>\n",
              "      <th>BMI</th>\n",
              "      <th>Smoker</th>\n",
              "      <th>Stroke</th>\n",
              "      <th>Diabetes</th>\n",
              "      <th>PhysActivity</th>\n",
              "      <th>Fruits</th>\n",
              "      <th>Veggies</th>\n",
              "      <th>HvyAlcoholConsump</th>\n",
              "      <th>AnyHealthcare</th>\n",
              "      <th>NoDocbcCost</th>\n",
              "      <th>GenHlth</th>\n",
              "      <th>MentHlth</th>\n",
              "      <th>PhysHlth</th>\n",
              "      <th>DiffWalk</th>\n",
              "      <th>Sex</th>\n",
              "      <th>Age</th>\n",
              "      <th>Education</th>\n",
              "      <th>Income</th>\n",
              "    </tr>\n",
              "  </thead>\n",
              "  <tbody>\n",
              "    <tr>\n",
              "      <th>count</th>\n",
              "      <td>169965.000000</td>\n",
              "      <td>169965.000000</td>\n",
              "      <td>169965.000000</td>\n",
              "      <td>169965.000000</td>\n",
              "      <td>169965.000000</td>\n",
              "      <td>169965.000000</td>\n",
              "      <td>169965.000000</td>\n",
              "      <td>169965.000000</td>\n",
              "      <td>169965.000000</td>\n",
              "      <td>169965.000000</td>\n",
              "      <td>169965.000000</td>\n",
              "      <td>169965.000000</td>\n",
              "      <td>169965.000000</td>\n",
              "      <td>169965.000000</td>\n",
              "      <td>169965.000000</td>\n",
              "      <td>169965.000000</td>\n",
              "      <td>169965.000000</td>\n",
              "      <td>169965.000000</td>\n",
              "      <td>169965.000000</td>\n",
              "      <td>169965.000000</td>\n",
              "      <td>169965.000000</td>\n",
              "    </tr>\n",
              "    <tr>\n",
              "      <th>mean</th>\n",
              "      <td>0.428935</td>\n",
              "      <td>0.424523</td>\n",
              "      <td>0.962628</td>\n",
              "      <td>0.190638</td>\n",
              "      <td>0.442044</td>\n",
              "      <td>0.040414</td>\n",
              "      <td>0.148872</td>\n",
              "      <td>0.756162</td>\n",
              "      <td>0.634089</td>\n",
              "      <td>0.811602</td>\n",
              "      <td>0.056106</td>\n",
              "      <td>0.951090</td>\n",
              "      <td>0.084047</td>\n",
              "      <td>0.378057</td>\n",
              "      <td>0.106493</td>\n",
              "      <td>0.141076</td>\n",
              "      <td>0.168423</td>\n",
              "      <td>0.440791</td>\n",
              "      <td>0.586070</td>\n",
              "      <td>0.810382</td>\n",
              "      <td>0.721869</td>\n",
              "    </tr>\n",
              "    <tr>\n",
              "      <th>std</th>\n",
              "      <td>0.494926</td>\n",
              "      <td>0.494272</td>\n",
              "      <td>0.189673</td>\n",
              "      <td>0.077072</td>\n",
              "      <td>0.496631</td>\n",
              "      <td>0.196929</td>\n",
              "      <td>0.349554</td>\n",
              "      <td>0.429398</td>\n",
              "      <td>0.481686</td>\n",
              "      <td>0.391030</td>\n",
              "      <td>0.230126</td>\n",
              "      <td>0.215681</td>\n",
              "      <td>0.277459</td>\n",
              "      <td>0.266337</td>\n",
              "      <td>0.247379</td>\n",
              "      <td>0.290419</td>\n",
              "      <td>0.374243</td>\n",
              "      <td>0.496483</td>\n",
              "      <td>0.254191</td>\n",
              "      <td>0.197197</td>\n",
              "      <td>0.295847</td>\n",
              "    </tr>\n",
              "    <tr>\n",
              "      <th>min</th>\n",
              "      <td>0.000000</td>\n",
              "      <td>0.000000</td>\n",
              "      <td>0.000000</td>\n",
              "      <td>0.000000</td>\n",
              "      <td>0.000000</td>\n",
              "      <td>0.000000</td>\n",
              "      <td>0.000000</td>\n",
              "      <td>0.000000</td>\n",
              "      <td>0.000000</td>\n",
              "      <td>0.000000</td>\n",
              "      <td>0.000000</td>\n",
              "      <td>0.000000</td>\n",
              "      <td>0.000000</td>\n",
              "      <td>0.000000</td>\n",
              "      <td>0.000000</td>\n",
              "      <td>0.000000</td>\n",
              "      <td>0.000000</td>\n",
              "      <td>0.000000</td>\n",
              "      <td>0.000000</td>\n",
              "      <td>0.000000</td>\n",
              "      <td>0.000000</td>\n",
              "    </tr>\n",
              "    <tr>\n",
              "      <th>25%</th>\n",
              "      <td>0.000000</td>\n",
              "      <td>0.000000</td>\n",
              "      <td>1.000000</td>\n",
              "      <td>0.139535</td>\n",
              "      <td>0.000000</td>\n",
              "      <td>0.000000</td>\n",
              "      <td>0.000000</td>\n",
              "      <td>1.000000</td>\n",
              "      <td>0.000000</td>\n",
              "      <td>1.000000</td>\n",
              "      <td>0.000000</td>\n",
              "      <td>1.000000</td>\n",
              "      <td>0.000000</td>\n",
              "      <td>0.250000</td>\n",
              "      <td>0.000000</td>\n",
              "      <td>0.000000</td>\n",
              "      <td>0.000000</td>\n",
              "      <td>0.000000</td>\n",
              "      <td>0.416667</td>\n",
              "      <td>0.600000</td>\n",
              "      <td>0.571429</td>\n",
              "    </tr>\n",
              "    <tr>\n",
              "      <th>50%</th>\n",
              "      <td>0.000000</td>\n",
              "      <td>0.000000</td>\n",
              "      <td>1.000000</td>\n",
              "      <td>0.174419</td>\n",
              "      <td>0.000000</td>\n",
              "      <td>0.000000</td>\n",
              "      <td>0.000000</td>\n",
              "      <td>1.000000</td>\n",
              "      <td>1.000000</td>\n",
              "      <td>1.000000</td>\n",
              "      <td>0.000000</td>\n",
              "      <td>1.000000</td>\n",
              "      <td>0.000000</td>\n",
              "      <td>0.250000</td>\n",
              "      <td>0.000000</td>\n",
              "      <td>0.000000</td>\n",
              "      <td>0.000000</td>\n",
              "      <td>0.000000</td>\n",
              "      <td>0.583333</td>\n",
              "      <td>0.800000</td>\n",
              "      <td>0.857143</td>\n",
              "    </tr>\n",
              "    <tr>\n",
              "      <th>75%</th>\n",
              "      <td>1.000000</td>\n",
              "      <td>1.000000</td>\n",
              "      <td>1.000000</td>\n",
              "      <td>0.220930</td>\n",
              "      <td>1.000000</td>\n",
              "      <td>0.000000</td>\n",
              "      <td>0.000000</td>\n",
              "      <td>1.000000</td>\n",
              "      <td>1.000000</td>\n",
              "      <td>1.000000</td>\n",
              "      <td>0.000000</td>\n",
              "      <td>1.000000</td>\n",
              "      <td>0.000000</td>\n",
              "      <td>0.500000</td>\n",
              "      <td>0.066667</td>\n",
              "      <td>0.100000</td>\n",
              "      <td>0.000000</td>\n",
              "      <td>1.000000</td>\n",
              "      <td>0.750000</td>\n",
              "      <td>1.000000</td>\n",
              "      <td>1.000000</td>\n",
              "    </tr>\n",
              "    <tr>\n",
              "      <th>max</th>\n",
              "      <td>1.000000</td>\n",
              "      <td>1.000000</td>\n",
              "      <td>1.000000</td>\n",
              "      <td>1.000000</td>\n",
              "      <td>1.000000</td>\n",
              "      <td>1.000000</td>\n",
              "      <td>1.000000</td>\n",
              "      <td>1.000000</td>\n",
              "      <td>1.000000</td>\n",
              "      <td>1.000000</td>\n",
              "      <td>1.000000</td>\n",
              "      <td>1.000000</td>\n",
              "      <td>1.000000</td>\n",
              "      <td>1.000000</td>\n",
              "      <td>1.000000</td>\n",
              "      <td>1.000000</td>\n",
              "      <td>1.000000</td>\n",
              "      <td>1.000000</td>\n",
              "      <td>1.000000</td>\n",
              "      <td>1.000000</td>\n",
              "      <td>1.000000</td>\n",
              "    </tr>\n",
              "  </tbody>\n",
              "</table>\n",
              "</div>"
            ],
            "text/plain": [
              "              HighBP       HighChol  ...      Education         Income\n",
              "count  169965.000000  169965.000000  ...  169965.000000  169965.000000\n",
              "mean        0.428935       0.424523  ...       0.810382       0.721869\n",
              "std         0.494926       0.494272  ...       0.197197       0.295847\n",
              "min         0.000000       0.000000  ...       0.000000       0.000000\n",
              "25%         0.000000       0.000000  ...       0.600000       0.571429\n",
              "50%         0.000000       0.000000  ...       0.800000       0.857143\n",
              "75%         1.000000       1.000000  ...       1.000000       1.000000\n",
              "max         1.000000       1.000000  ...       1.000000       1.000000\n",
              "\n",
              "[8 rows x 21 columns]"
            ]
          },
          "metadata": {},
          "execution_count": 22
        }
      ]
    },
    {
      "cell_type": "markdown",
      "metadata": {
        "id": "ztK2L55QcTRV"
      },
      "source": [
        "KNN Algorithm"
      ]
    },
    {
      "cell_type": "code",
      "metadata": {
        "colab": {
          "base_uri": "https://localhost:8080/"
        },
        "id": "8srMUxBVzXgP",
        "outputId": "a0fcf413-3204-4a80-857a-726af9bcd771"
      },
      "source": [
        "neighbors = range(1,16)\n",
        "train_scores = []\n",
        "test_scores = []\n",
        "precisions = []\n",
        "recalls = []\n",
        "fscores = []\n",
        "\n",
        "\n",
        "for i in neighbors:\n",
        "    start = datetime.now()\n",
        "\n",
        "    heart_knn = KNeighborsClassifier(n_neighbors = i)\n",
        "    heart_knn.fit(X_train_under, y_train_under)\n",
        "\n",
        "    train_score = heart_knn.score(X_train_under, y_train_under)\n",
        "\n",
        "    knn_pred = heart_knn.predict(X_test)\n",
        "\n",
        "    test_score = accuracy_score(y_test, knn_pred)\n",
        "    recall = recall_score(y_test, knn_pred)\n",
        "    precision = precision_score(y_test, knn_pred)\n",
        "    fscore = f1_score(y_test, knn_pred)\n",
        "\n",
        "    recalls.append(recall)\n",
        "    precisions.append(precision)\n",
        "    fscores.append(fscore)\n",
        "\n",
        "    train_scores.append(train_score)\n",
        "    test_scores.append(test_score)\n",
        "\n",
        "    iteration = [i, train_score, test_score, recall, precision, fscore, datetime.now() - start]\n",
        "    print(iteration)"
      ],
      "execution_count": null,
      "outputs": [
        {
          "output_type": "stream",
          "name": "stdout",
          "text": [
            "[1, 0.9968453273363318, 0.6836887057277669, 0.6727964489537096, 0.18164697825714776, 0.2860609328660016, datetime.timedelta(seconds=42, microseconds=563125)]\n",
            "[2, 0.8411731634182908, 0.797527324852177, 0.4914394419784401, 0.2304490038655962, 0.31376518218623484, datetime.timedelta(seconds=47, microseconds=581150)]\n",
            "[3, 0.8410169915042479, 0.7064564295526489, 0.7301204819277108, 0.20412722050845655, 0.319053424961206, datetime.timedelta(seconds=51, microseconds=368129)]\n",
            "[4, 0.8086894052973513, 0.7726930657588246, 0.6129359543436905, 0.23224411340701587, 0.33685311029796133, datetime.timedelta(seconds=54, microseconds=708305)]\n",
            "[5, 0.8097826086956522, 0.7149973123096219, 0.7500317057704502, 0.2127185094597511, 0.33143721803457843, datetime.timedelta(seconds=56, microseconds=676566)]\n",
            "[6, 0.7959770114942529, 0.7607597204802007, 0.6766011414077362, 0.2338578880462894, 0.34757964688253307, datetime.timedelta(seconds=58, microseconds=459484)]\n",
            "[7, 0.7931659170414792, 0.7190109299408708, 0.7620798985415346, 0.21727654035290714, 0.33814467797754705, datetime.timedelta(seconds=62, microseconds=380845)]\n",
            "[8, 0.7861381809095452, 0.7546437317087739, 0.7015852885225111, 0.23323074328597326, 0.3500822680673332, datetime.timedelta(seconds=62, microseconds=950701)]\n",
            "[9, 0.7864192903548226, 0.7221405960699994, 0.7694356372859861, 0.22053798618684115, 0.34281678203136035, datetime.timedelta(seconds=65, microseconds=285642)]\n",
            "[10, 0.7812031484257871, 0.7521232753986741, 0.7204819277108434, 0.2344807660558032, 0.35381309749945505, datetime.timedelta(seconds=67, microseconds=332880)]\n",
            "[11, 0.7816404297851074, 0.7233709609986263, 0.7714648065948002, 0.2216917526148912, 0.3444117314007474, datetime.timedelta(seconds=68, microseconds=783173)]\n",
            "[12, 0.7780172413793104, 0.7486949770053156, 0.7311350665821179, 0.23356156058825914, 0.3540284942274626, datetime.timedelta(seconds=69, microseconds=447031)]\n",
            "[13, 0.7786106946526736, 0.7242071313384698, 0.777425491439442, 0.2232094090230492, 0.3468371619327827, datetime.timedelta(seconds=71, microseconds=749260)]\n",
            "[14, 0.7764555222388806, 0.7457325449441558, 0.7402663284717819, 0.2327816550348953, 0.3541868932038835, datetime.timedelta(seconds=71, microseconds=689286)]\n",
            "[15, 0.7776424287856072, 0.7243146389535925, 0.7775523145212428, 0.22330273892773891, 0.346962451543533, datetime.timedelta(seconds=72, microseconds=847996)]\n"
          ]
        }
      ]
    },
    {
      "cell_type": "code",
      "metadata": {
        "id": "TBafEbd96-X8"
      },
      "source": [
        "heart_knn_df = pd.DataFrame({'k':neighbors, 'train_score':train_scores, 'test_score':test_scores, 'recalls':recall, 'precision':precisions, 'f1_scores':fscores})"
      ],
      "execution_count": null,
      "outputs": []
    },
    {
      "cell_type": "code",
      "metadata": {
        "colab": {
          "base_uri": "https://localhost:8080/",
          "height": 295
        },
        "id": "W5-v03HH8z93",
        "outputId": "0da64d1c-fbd0-4d04-c7c2-28565dcc0c2d"
      },
      "source": [
        "plt.title('Heart Disease with Under Sampling k-NN: Varying Number of Neighbors')\n",
        "plt.plot(neighbors, test_scores, label = 'Testing Accuracy')\n",
        "plt.plot(neighbors, train_scores, label = 'Training Accuracy')\n",
        "plt.legend()\n",
        "plt.xlabel('Number of Neighbors')\n",
        "plt.ylabel('Accuracy')\n",
        "plt.show()"
      ],
      "execution_count": null,
      "outputs": [
        {
          "output_type": "display_data",
          "data": {
            "image/png": "[encoded data removed]",
            "text/plain": [
              "<Figure size 432x288 with 1 Axes>"
            ]
          },
          "metadata": {
            "needs_background": "light"
          }
        }
      ]
    },
    {
      "cell_type": "code",
      "metadata": {
        "colab": {
          "base_uri": "https://localhost:8080/",
          "height": 295
        },
        "id": "6ZltHDfJ3vJC",
        "outputId": "3fd9a63a-da1b-4cb4-d53d-628d720cbd91"
      },
      "source": [
        "plt.title('Heart Disease with Unde Sampling k-NN: Varying Number of Neighbors')\n",
        "plt.plot(neighbors, recalls, label = 'Recall Score')\n",
        "plt.plot(neighbors, precisions, label = 'Precision Score')\n",
        "plt.plot(neighbors, fscores, label = 'F1 Score')\n",
        "plt.legend()\n",
        "plt.xlabel('Number of Neighbors')\n",
        "plt.ylabel('Accuracy')\n",
        "plt.show()"
      ],
      "execution_count": null,
      "outputs": [
        {
          "output_type": "display_data",
          "data": {
            "image/png": "[encoded data removed]",
            "text/plain": [
              "<Figure size 432x288 with 1 Axes>"
            ]
          },
          "metadata": {
            "needs_background": "light"
          }
        }
      ]
    },
    {
      "cell_type": "code",
      "metadata": {
        "colab": {
          "base_uri": "https://localhost:8080/",
          "height": 266
        },
        "id": "R6UbCaLL-Z9H",
        "outputId": "fc7b0f18-cef6-474d-c8c6-6301ba32c1f1"
      },
      "source": [
        "heart_knn_df"
      ],
      "execution_count": null,
      "outputs": [
        {
          "output_type": "execute_result",
          "data": {
            "text/html": [
              "<div>\n",
              "<style scoped>\n",
              "    .dataframe tbody tr th:only-of-type {\n",
              "        vertical-align: middle;\n",
              "    }\n",
              "\n",
              "    .dataframe tbody tr th {\n",
              "        vertical-align: top;\n",
              "    }\n",
              "\n",
              "    .dataframe thead th {\n",
              "        text-align: right;\n",
              "    }\n",
              "</style>\n",
              "<table border=\"1\" class=\"dataframe\">\n",
              "  <thead>\n",
              "    <tr style=\"text-align: right;\">\n",
              "      <th></th>\n",
              "      <th>k</th>\n",
              "      <th>train_score</th>\n",
              "      <th>test_score</th>\n",
              "      <th>recalls</th>\n",
              "      <th>precision</th>\n",
              "      <th>f1_scores</th>\n",
              "    </tr>\n",
              "  </thead>\n",
              "  <tbody>\n",
              "    <tr>\n",
              "      <th>0</th>\n",
              "      <td>2</td>\n",
              "      <td>0.841173</td>\n",
              "      <td>0.797527</td>\n",
              "      <td>0.232782</td>\n",
              "      <td>0.491439</td>\n",
              "      <td>0.313765</td>\n",
              "    </tr>\n",
              "    <tr>\n",
              "      <th>1</th>\n",
              "      <td>4</td>\n",
              "      <td>0.808689</td>\n",
              "      <td>0.772693</td>\n",
              "      <td>0.232782</td>\n",
              "      <td>0.612936</td>\n",
              "      <td>0.336853</td>\n",
              "    </tr>\n",
              "    <tr>\n",
              "      <th>2</th>\n",
              "      <td>6</td>\n",
              "      <td>0.795977</td>\n",
              "      <td>0.760760</td>\n",
              "      <td>0.232782</td>\n",
              "      <td>0.676601</td>\n",
              "      <td>0.347580</td>\n",
              "    </tr>\n",
              "    <tr>\n",
              "      <th>3</th>\n",
              "      <td>8</td>\n",
              "      <td>0.786138</td>\n",
              "      <td>0.754644</td>\n",
              "      <td>0.232782</td>\n",
              "      <td>0.701585</td>\n",
              "      <td>0.350082</td>\n",
              "    </tr>\n",
              "    <tr>\n",
              "      <th>4</th>\n",
              "      <td>10</td>\n",
              "      <td>0.781203</td>\n",
              "      <td>0.752123</td>\n",
              "      <td>0.232782</td>\n",
              "      <td>0.720482</td>\n",
              "      <td>0.353813</td>\n",
              "    </tr>\n",
              "    <tr>\n",
              "      <th>5</th>\n",
              "      <td>12</td>\n",
              "      <td>0.778017</td>\n",
              "      <td>0.748695</td>\n",
              "      <td>0.232782</td>\n",
              "      <td>0.731135</td>\n",
              "      <td>0.354028</td>\n",
              "    </tr>\n",
              "    <tr>\n",
              "      <th>6</th>\n",
              "      <td>14</td>\n",
              "      <td>0.776456</td>\n",
              "      <td>0.745733</td>\n",
              "      <td>0.232782</td>\n",
              "      <td>0.740266</td>\n",
              "      <td>0.354187</td>\n",
              "    </tr>\n",
              "  </tbody>\n",
              "</table>\n",
              "</div>"
            ],
            "text/plain": [
              "    k  train_score  test_score   recalls  precision  f1_scores\n",
              "0   2     0.841173    0.797527  0.232782   0.491439   0.313765\n",
              "1   4     0.808689    0.772693  0.232782   0.612936   0.336853\n",
              "2   6     0.795977    0.760760  0.232782   0.676601   0.347580\n",
              "3   8     0.786138    0.754644  0.232782   0.701585   0.350082\n",
              "4  10     0.781203    0.752123  0.232782   0.720482   0.353813\n",
              "5  12     0.778017    0.748695  0.232782   0.731135   0.354028\n",
              "6  14     0.776456    0.745733  0.232782   0.740266   0.354187"
            ]
          },
          "metadata": {},
          "execution_count": 35
        }
      ]
    },
    {
      "cell_type": "markdown",
      "metadata": {
        "id": "dRxhniE-3jq7"
      },
      "source": []
    },
    {
      "cell_type": "code",
      "metadata": {
        "id": "cppOqGy5Dqhb",
        "colab": {
          "base_uri": "https://localhost:8080/"
        },
        "outputId": "d6e7032a-2db7-4cc9-8f2e-0a014f11eba5"
      },
      "source": [
        "neighbors = range(1,8)\n",
        "train_scores = []\n",
        "test_scores = []\n",
        "precisions = []\n",
        "recalls = []\n",
        "fscores = []\n",
        "\n",
        "\n",
        "for i in neighbors:\n",
        "    start = datetime.now()\n",
        "\n",
        "    heart_knn = KNeighborsClassifier(n_neighbors = i*2)\n",
        "    heart_knn.fit(X_train, y_train)\n",
        "\n",
        "    train_score = heart_knn.score(X_train, y_train)\n",
        "    test_score = heart_knn.score(X_test, y_test)\n",
        "\n",
        "    knn_pred = heart_knn.predict(X_test)\n",
        "\n",
        "    recall = recall_score(knn_pred, y_test)\n",
        "    precision = precision_score(knn_pred, y_test)\n",
        "    fscore = f1_score(knn_pred, y_test)\n",
        "\n",
        "    recalls.append(recall)\n",
        "    precisions.append(precision)\n",
        "    fscores.append(fscore)\n",
        "\n",
        "    train_scores.append(train_score)\n",
        "    test_scores.append(test_score)\n",
        "\n",
        "    iteration = [i*2, train_score, test_score, recall, precision, fscore, datetime.now() - start]\n",
        "    print(iteration)"
      ],
      "execution_count": null,
      "outputs": [
        {
          "output_type": "stream",
          "name": "stdout",
          "text": [
            "[2, 0.9297737769540788, 0.8992653646299946, 0.35714285714285715, 0.08687381103360811, 0.1397531367948587, datetime.timedelta(seconds=769, microseconds=926235)]\n",
            "[4, 0.9190068543523666, 0.9016185868721257, 0.40145985401459855, 0.09067850348763475, 0.1479412373267122, datetime.timedelta(seconds=819, microseconds=497463)]\n",
            "[6, 0.9150589827317389, 0.9025981006987995, 0.4165114835505897, 0.08509828788839569, 0.14132266217354675, datetime.timedelta(seconds=846, microseconds=630031)]\n",
            "[8, 0.9131174065248727, 0.9035059427820582, 0.43562374916611074, 0.08281547241597971, 0.13917306052855927, datetime.timedelta(seconds=887, microseconds=108773)]\n",
            "[10, 0.9121172006001236, 0.9042226602162098, 0.4523979957050823, 0.08015218769816107, 0.13617754794225384, datetime.timedelta(seconds=922, microseconds=935092)]\n",
            "[12, 0.9113052687317977, 0.9047601982918234, 0.4662058371735791, 0.07698161065313887, 0.13214324589093282, datetime.timedelta(seconds=940, microseconds=73496)]\n",
            "[14, 0.9106933780484218, 0.9048677059069462, 0.4680161943319838, 0.07330374128091313, 0.1267543859649123, datetime.timedelta(seconds=968, microseconds=307904)]\n"
          ]
        }
      ]
    },
    {
      "cell_type": "code",
      "metadata": {
        "colab": {
          "base_uri": "https://localhost:8080/",
          "height": 295
        },
        "id": "_zxvVQJO4D4t",
        "outputId": "c4a910c7-4c89-45ac-d1fa-c129e1e039b1"
      },
      "source": [
        "plt.title('Heart Disease k-NN: Varying Number of Neighbors')\n",
        "plt.plot(neighbors, test_scores, label = 'Testing Accuracy')\n",
        "plt.plot(neighbors, train_scores, label = 'Training Accuracy')\n",
        "plt.legend()\n",
        "plt.xlabel('Number of Neighbors')\n",
        "plt.ylabel('Accuracy')\n",
        "plt.show()"
      ],
      "execution_count": null,
      "outputs": [
        {
          "output_type": "display_data",
          "data": {
            "image/png": "[encoded data removed]",
            "text/plain": [
              "<Figure size 432x288 with 1 Axes>"
            ]
          },
          "metadata": {
            "needs_background": "light"
          }
        }
      ]
    },
    {
      "cell_type": "code",
      "metadata": {
        "colab": {
          "base_uri": "https://localhost:8080/",
          "height": 295
        },
        "id": "aJct8y5u4EEd",
        "outputId": "10428d1c-8bf9-47a1-ec61-c4554de52ee3"
      },
      "source": [
        "plt.title('Heart Disease k-NN: Varying Number of Neighbors')\n",
        "plt.plot(neighbors, recalls, label = 'Recall Score')\n",
        "plt.plot(neighbors, precisions, label = 'Precision Score')\n",
        "plt.plot(neighbors, fscores, label = 'F1 Score')\n",
        "plt.legend()\n",
        "plt.xlabel('Number of Neighbors')\n",
        "plt.ylabel('Accuracy')\n",
        "plt.show()"
      ],
      "execution_count": null,
      "outputs": [
        {
          "output_type": "display_data",
          "data": {
            "image/png": "[encoded data removed]",
            "text/plain": [
              "<Figure size 432x288 with 1 Axes>"
            ]
          },
          "metadata": {
            "needs_background": "light"
          }
        }
      ]
    },
    {
      "cell_type": "code",
      "metadata": {
        "id": "wPiW1dvjXxpB"
      },
      "source": [
        "heart_knn = KNeighborsClassifier(n_neighbors=14)\n",
        "\n",
        "heart_knn.fit(X_train_under, y_train_under)\n",
        "\n",
        "knn_pred = heart_knn.predict(X_test)"
      ],
      "execution_count": null,
      "outputs": []
    },
    {
      "cell_type": "code",
      "metadata": {
        "colab": {
          "base_uri": "https://localhost:8080/",
          "height": 295
        },
        "id": "wS_jBTZ0blIZ",
        "outputId": "d5d552d4-fe8a-475f-9b0b-0b6002e630e4"
      },
      "source": [
        "knn_pred_prob = heart_knn.predict_proba(X_test)\n",
        "roc_auc_score(y_test, knn_pred_prob[:,1])\n",
        "\n",
        "knn_pred = knn_pred_prob[:,1]\n",
        "fpr, tpr, threshold = roc_curve(y_test, knn_pred)\n",
        "roc_auc = auc(fpr, tpr)\n",
        "\n",
        "plt.title('Receiver Operating Characteristic')\n",
        "plt.plot(fpr, tpr, 'b', label = 'AUC = %0.2f' % roc_auc)\n",
        "plt.legend(loc = 'lower right')\n",
        "plt.plot([0, 1], [0, 1],'r--')\n",
        "plt.xlim([0, 1])\n",
        "plt.ylim([0, 1])\n",
        "plt.ylabel('True Positive Rate')\n",
        "plt.xlabel('False Positive Rate')\n",
        "plt.show()"
      ],
      "execution_count": null,
      "outputs": [
        {
          "output_type": "display_data",
          "data": {
            "image/png": "[encoded data removed]",
            "text/plain": [
              "<Figure size 432x288 with 1 Axes>"
            ]
          },
          "metadata": {
            "needs_background": "light"
          }
        }
      ]
    },
    {
      "cell_type": "code",
      "metadata": {
        "colab": {
          "base_uri": "https://localhost:8080/"
        },
        "id": "PEyuHJqUZ9BT",
        "outputId": "79e1ec8f-e539-4363-b725-43413d212d4e"
      },
      "source": [
        "print(confusion_matrix(y_test, knn_pred))\n",
        "\n",
        "print(f'Accuracy: {accuracy_score(y_test, knn_pred): 0.2f}')\n",
        "print(f'Precision: {precision_score(y_test, knn_pred): 0.2f}')\n",
        "print(f'Recall: {recall_score(y_test, knn_pred): 0.2f}')\n",
        "print(f'fscore: {f1_score(y_test, knn_pred): 0.2f}')\n",
        "print(classification_report(y_test, knn_pred))"
      ],
      "execution_count": null,
      "outputs": [
        {
          "output_type": "stream",
          "name": "stdout",
          "text": [
            "[[56592 19238]\n",
            " [ 2048  5837]]\n",
            "Accuracy:  0.75\n",
            "Precision:  0.23\n",
            "Recall:  0.74\n",
            "fscore:  0.35\n",
            "              precision    recall  f1-score   support\n",
            "\n",
            "         0.0       0.97      0.75      0.84     75830\n",
            "         1.0       0.23      0.74      0.35      7885\n",
            "\n",
            "    accuracy                           0.75     83715\n",
            "   macro avg       0.60      0.74      0.60     83715\n",
            "weighted avg       0.90      0.75      0.80     83715\n",
            "\n"
          ]
        }
      ]
    },
    {
      "cell_type": "markdown",
      "metadata": {
        "id": "sECCKiCAMMay"
      },
      "source": [
        "Logistic Regression"
      ]
    },
    {
      "cell_type": "code",
      "metadata": {
        "id": "kiWkfZU5D2le",
        "colab": {
          "base_uri": "https://localhost:8080/"
        },
        "outputId": "cf2ab5d4-af12-4ee7-95ad-cb8b04559bc0"
      },
      "source": [
        "min_max = MinMaxScaler()\n",
        "X_norm = min_max.fit_transform(X)\n",
        "X_norm = pd.DataFrame(data = X_norm, columns = X.columns)\n",
        "X_train_norm, X_test_norm, y_train_norm, y_test_norm = train_test_split(X,y, test_size = .33, random_state=6000, stratify=y)\n",
        "\n",
        "logistic = LogisticRegression()\n",
        "logistic.fit(X_train_norm, y_train_norm)\n",
        "predictions = logistic.predict(X_test_norm)\n",
        "print(confusion_matrix(y_test_norm, predictions))"
      ],
      "execution_count": null,
      "outputs": [
        {
          "output_type": "stream",
          "name": "stdout",
          "text": [
            "[[74787  1043]\n",
            " [ 6805  1080]]\n"
          ]
        },
        {
          "output_type": "stream",
          "name": "stderr",
          "text": [
            "/usr/local/lib/python3.7/dist-packages/sklearn/linear_model/_logistic.py:940: ConvergenceWarning: lbfgs failed to converge (status=1):\n",
            "STOP: TOTAL NO. of ITERATIONS REACHED LIMIT.\n",
            "\n",
            "Increase the number of iterations (max_iter) or scale the data as shown in:\n",
            "    https://scikit-learn.org/stable/modules/preprocessing.html\n",
            "Please also refer to the documentation for alternative solver options:\n",
            "    https://scikit-learn.org/stable/modules/linear_model.html#logistic-regression\n",
            "  extra_warning_msg=_LOGISTIC_SOLVER_CONVERGENCE_MSG)\n"
          ]
        }
      ]
    },
    {
      "cell_type": "code",
      "metadata": {
        "colab": {
          "base_uri": "https://localhost:8080/",
          "height": 312
        },
        "id": "sG5jhvv3PKi2",
        "outputId": "a8565bea-f4c9-485d-9460-97b6337a7c13"
      },
      "source": [
        "logistic_roc_auc = roc_auc_score(y_test_norm, predictions)\n",
        "fp, tp, threshold = roc_curve(y_test_norm, logistic.predict_proba(X_test_norm)[:,1])\n",
        "plt.figure()\n",
        "plt.plot(fp, tp, label = 'Logistic Regression area = %0.2f' % logistic_roc_auc)\n",
        "plt.plot([0,1], [0,1], 'r--')\n",
        "plt.xlabel('False Positive Rate')\n",
        "plt.ylabel('True Positive Rate')\n",
        "plt.title('Logistic Regression (unbalanced data) ROC curve')\n",
        "plt.legend(loc = 'lower right')"
      ],
      "execution_count": null,
      "outputs": [
        {
          "output_type": "execute_result",
          "data": {
            "text/plain": [
              "<matplotlib.legend.Legend at 0x7f252fa40a90>"
            ]
          },
          "metadata": {},
          "execution_count": 33
        },
        {
          "output_type": "display_data",
          "data": {
            "image/png": "[encoded data removed]",
            "text/plain": [
              "<Figure size 432x288 with 1 Axes>"
            ]
          },
          "metadata": {
            "needs_background": "light"
          }
        }
      ]
    },
    {
      "cell_type": "code",
      "metadata": {
        "colab": {
          "base_uri": "https://localhost:8080/"
        },
        "id": "_YlXPpdcUob6",
        "outputId": "fc0b04e4-d782-4674-8176-4ea1ca82fbc4"
      },
      "source": [
        "from sklearn.metrics import classification_report\n",
        "print(classification_report(y_test, predictions))"
      ],
      "execution_count": null,
      "outputs": [
        {
          "output_type": "stream",
          "name": "stdout",
          "text": [
            "              precision    recall  f1-score   support\n",
            "\n",
            "         0.0       0.92      0.99      0.95     75830\n",
            "         1.0       0.51      0.14      0.22      7885\n",
            "\n",
            "    accuracy                           0.91     83715\n",
            "   macro avg       0.71      0.56      0.58     83715\n",
            "weighted avg       0.88      0.91      0.88     83715\n",
            "\n"
          ]
        }
      ]
    },
    {
      "cell_type": "code",
      "metadata": {
        "colab": {
          "base_uri": "https://localhost:8080/"
        },
        "id": "383CHw7ScJ5N",
        "outputId": "f1bddd18-3807-4584-84e2-ac350a65460a"
      },
      "source": [
        "print(f'Accuracy: {accuracy_score(y_test, predictions): 0.2f}')\n",
        "print(f'Precision: {precision_score(y_test, predictions): 0.2f}')\n",
        "print(f'Recall: {recall_score(y_test, predictions): 0.2f}')\n",
        "print(f'fscore: {f1_score(y_test, predictions): 0.2f}')"
      ],
      "execution_count": null,
      "outputs": [
        {
          "output_type": "stream",
          "name": "stdout",
          "text": [
            "Accuracy:  0.91\n",
            "Precision:  0.51\n",
            "Recall:  0.14\n",
            "fscore:  0.22\n"
          ]
        }
      ]
    },
    {
      "cell_type": "code",
      "metadata": {
        "colab": {
          "base_uri": "https://localhost:8080/"
        },
        "id": "YaNY6ETbQbg1",
        "outputId": "7e226e66-36fa-42a0-fe05-533a4706f456"
      },
      "source": [
        "from collections import Counter\n",
        "Counter(y_train)"
      ],
      "execution_count": null,
      "outputs": [
        {
          "output_type": "execute_result",
          "data": {
            "text/plain": [
              "Counter({0.0: 153957, 1.0: 16008})"
            ]
          },
          "metadata": {},
          "execution_count": 13
        }
      ]
    },
    {
      "cell_type": "code",
      "metadata": {
        "colab": {
          "base_uri": "https://localhost:8080/"
        },
        "id": "wn69Z2nFcArP",
        "outputId": "09682d9f-29c6-4079-ffe7-d757ab1bbe13"
      },
      "source": [
        "from imblearn.under_sampling import RandomUnderSampler\n",
        "rus = RandomUnderSampler(sampling_strategy = 'not minority', random_state = 0)\n",
        "X_resample_train, y_resample_train = rus.fit_resample(X_train_norm,y_train_norm)\n",
        "Counter(y_resample_train)"
      ],
      "execution_count": null,
      "outputs": [
        {
          "output_type": "stream",
          "name": "stderr",
          "text": [
            "/usr/local/lib/python3.7/dist-packages/sklearn/utils/deprecation.py:87: FutureWarning: Function safe_indexing is deprecated; safe_indexing is deprecated in version 0.22 and will be removed in version 0.24.\n",
            "  warnings.warn(msg, category=FutureWarning)\n"
          ]
        },
        {
          "output_type": "execute_result",
          "data": {
            "text/plain": [
              "Counter({0.0: 16008, 1.0: 16008})"
            ]
          },
          "metadata": {},
          "execution_count": 14
        }
      ]
    },
    {
      "cell_type": "code",
      "metadata": {
        "colab": {
          "base_uri": "https://localhost:8080/"
        },
        "id": "zTXnYK4kcB43",
        "outputId": "d9a35c76-3c07-4c28-a3b2-d01d61eb94da"
      },
      "source": [
        "logistic1 = LogisticRegression()\n",
        "logistic1.fit(X_resample_train, y_resample_train)\n",
        "predictions1 = logistic1.predict(X_test_norm)"
      ],
      "execution_count": null,
      "outputs": [
        {
          "output_type": "stream",
          "name": "stderr",
          "text": [
            "/usr/local/lib/python3.7/dist-packages/sklearn/linear_model/_logistic.py:940: ConvergenceWarning: lbfgs failed to converge (status=1):\n",
            "STOP: TOTAL NO. of ITERATIONS REACHED LIMIT.\n",
            "\n",
            "Increase the number of iterations (max_iter) or scale the data as shown in:\n",
            "    https://scikit-learn.org/stable/modules/preprocessing.html\n",
            "Please also refer to the documentation for alternative solver options:\n",
            "    https://scikit-learn.org/stable/modules/linear_model.html#logistic-regression\n",
            "  extra_warning_msg=_LOGISTIC_SOLVER_CONVERGENCE_MSG)\n"
          ]
        }
      ]
    },
    {
      "cell_type": "code",
      "metadata": {
        "colab": {
          "base_uri": "https://localhost:8080/",
          "height": 312
        },
        "id": "OOcsxKimcQmO",
        "outputId": "d5a039c0-9257-48d2-97e3-5713caf8b2b2"
      },
      "source": [
        "logistic_roc_auc1 = roc_auc_score(y_test_norm, predictions1)\n",
        "fp1, tp1, threshold1 = roc_curve(y_test_norm, logistic1.predict_proba(X_test_norm)[:,1])\n",
        "plt.figure()\n",
        "plt.plot(fp1, tp1, label = 'Logistic Regression area = %0.2f' % logistic_roc_auc1)\n",
        "plt.plot([0,1], [0,1], 'r--')\n",
        "plt.xlabel('False Positive Rate')\n",
        "plt.ylabel('True Positive Rate')\n",
        "plt.title('Logistic Regression (balanced data) ROC curve')\n",
        "plt.legend(loc = 'lower right')"
      ],
      "execution_count": null,
      "outputs": [
        {
          "output_type": "execute_result",
          "data": {
            "text/plain": [
              "<matplotlib.legend.Legend at 0x7f252f9b8cd0>"
            ]
          },
          "metadata": {},
          "execution_count": 34
        },
        {
          "output_type": "display_data",
          "data": {
            "image/png": "[encoded data removed]",
            "text/plain": [
              "<Figure size 432x288 with 1 Axes>"
            ]
          },
          "metadata": {
            "needs_background": "light"
          }
        }
      ]
    },
    {
      "cell_type": "code",
      "metadata": {
        "colab": {
          "base_uri": "https://localhost:8080/"
        },
        "id": "wfQ992WJcbQs",
        "outputId": "67bb0807-10da-4a2b-e026-f1dcea212330"
      },
      "source": [
        "confusion_matrix(y_test_norm, predictions1)"
      ],
      "execution_count": null,
      "outputs": [
        {
          "output_type": "execute_result",
          "data": {
            "text/plain": [
              "array([[56029, 19801],\n",
              "       [ 1644,  6241]])"
            ]
          },
          "metadata": {},
          "execution_count": 17
        }
      ]
    },
    {
      "cell_type": "code",
      "metadata": {
        "colab": {
          "base_uri": "https://localhost:8080/"
        },
        "id": "j14aPqOwcnLf",
        "outputId": "20aa8df7-0f0b-44e3-9285-bcddae16c152"
      },
      "source": [
        "print(classification_report(y_test_norm, predictions1))"
      ],
      "execution_count": null,
      "outputs": [
        {
          "output_type": "stream",
          "name": "stdout",
          "text": [
            "              precision    recall  f1-score   support\n",
            "\n",
            "         0.0       0.97      0.74      0.84     75830\n",
            "         1.0       0.24      0.79      0.37      7885\n",
            "\n",
            "    accuracy                           0.74     83715\n",
            "   macro avg       0.61      0.77      0.60     83715\n",
            "weighted avg       0.90      0.74      0.79     83715\n",
            "\n"
          ]
        }
      ]
    },
    {
      "cell_type": "code",
      "metadata": {
        "colab": {
          "base_uri": "https://localhost:8080/"
        },
        "id": "LdrwPwrrc45q",
        "outputId": "890fa2c2-2b0c-47ed-c8cc-cb94616a9ce7"
      },
      "source": [
        "print(f'Accuracy: {accuracy_score(y_test_norm, predictions1): 0.2f}')\n",
        "print(f'Precision: {precision_score(y_test_norm, predictions1): 0.2f}')\n",
        "print(f'Recall: {recall_score(y_test_norm, predictions1): 0.2f}')\n",
        "print(f'fscore: {f1_score(y_test_norm, predictions1): 0.2f}')"
      ],
      "execution_count": null,
      "outputs": [
        {
          "output_type": "stream",
          "name": "stdout",
          "text": [
            "Accuracy:  0.74\n",
            "Precision:  0.24\n",
            "Recall:  0.79\n",
            "fscore:  0.37\n"
          ]
        }
      ]
    },
    {
      "cell_type": "markdown",
      "metadata": {
        "id": "Bgfx5dfp8vW1"
      },
      "source": [
        "**Random Forest**"
      ]
    },
    {
      "cell_type": "code",
      "metadata": {
        "colab": {
          "base_uri": "https://localhost:8080/"
        },
        "id": "kxKQKDh88zFL",
        "outputId": "b39b8d93-c1a0-4157-c7e2-c45b1e87eea7"
      },
      "source": [
        "#Create a Gaussian Classifier\n",
        "clf=RandomForestClassifier(n_estimators=100)\n",
        "\n",
        "#Train the model using the training sets y_pred=clf.predict(X_test)\n",
        "clf.fit(X_train,y_train)\n",
        "\n",
        "# prediction on test set\n",
        "y_pred_RF=clf.predict(X_test)\n",
        "\n",
        "#Import scikit-learn metrics module for accuracy calculation\n",
        "from sklearn import metrics\n",
        "# Model Accuracy, how often is the classifier correct?\n",
        "print(\"Accuracy:\",metrics.accuracy_score(y_test, y_pred_RF))"
      ],
      "execution_count": null,
      "outputs": [
        {
          "output_type": "stream",
          "name": "stdout",
          "text": [
            "Accuracy: 0.9028011706384758\n"
          ]
        }
      ]
    },
    {
      "cell_type": "code",
      "metadata": {
        "colab": {
          "base_uri": "https://localhost:8080/"
        },
        "id": "hubamyOc9Jrf",
        "outputId": "9000a7bc-11f6-4d8f-b25b-5183d40af08c"
      },
      "source": [
        "#Claasification reprot\n",
        "print(classification_report(y_test, y_pred_RF))"
      ],
      "execution_count": null,
      "outputs": [
        {
          "output_type": "stream",
          "name": "stdout",
          "text": [
            "              precision    recall  f1-score   support\n",
            "\n",
            "         0.0       0.91      0.99      0.95     75830\n",
            "         1.0       0.44      0.11      0.18      7885\n",
            "\n",
            "    accuracy                           0.90     83715\n",
            "   macro avg       0.68      0.55      0.56     83715\n",
            "weighted avg       0.87      0.90      0.88     83715\n",
            "\n"
          ]
        }
      ]
    },
    {
      "cell_type": "code",
      "metadata": {
        "colab": {
          "base_uri": "https://localhost:8080/",
          "height": 312
        },
        "id": "KgMyFbhA9Mq6",
        "outputId": "7cf2199e-aca2-4521-9871-b40715057211"
      },
      "source": [
        "RF_roc_auc = roc_auc_score(y_test, y_pred_RF)\n",
        "fp, tp, threshold = roc_curve(y_test, clf.predict_proba(X_test)[:,1])\n",
        "plt.figure()\n",
        "plt.plot(fp, tp, label = 'Random Forest area = %0.2f' % RF_roc_auc)\n",
        "plt.plot([0,1], [0,1], 'r--')\n",
        "plt.xlabel('False Positive Rate')\n",
        "plt.ylabel('True Positive Rate')\n",
        "plt.title('Random Forest(unbalanced data) ROC curve')\n",
        "plt.legend(loc = 'lower right')"
      ],
      "execution_count": null,
      "outputs": [
        {
          "output_type": "execute_result",
          "data": {
            "text/plain": [
              "<matplotlib.legend.Legend at 0x7f31ea90c150>"
            ]
          },
          "metadata": {},
          "execution_count": 49
        },
        {
          "output_type": "display_data",
          "data": {
            "image/png": "[encoded data removed]",
            "text/plain": [
              "<Figure size 432x288 with 1 Axes>"
            ]
          },
          "metadata": {
            "needs_background": "light"
          }
        }
      ]
    },
    {
      "cell_type": "code",
      "metadata": {
        "colab": {
          "base_uri": "https://localhost:8080/"
        },
        "id": "6sQkkxPn9rus",
        "outputId": "2590ef6a-ce26-4aca-9899-bad048ac88e6"
      },
      "source": [
        "#Create a Gaussian Classifier for undersample data\n",
        "clf_under = RandomForestClassifier(n_estimators=100)\n",
        "\n",
        "#Train the model using the training sets y_pred_RF_under=clf_under.predict(X_test)\n",
        "clf_under.fit(X_train_under,y_train_under)\n",
        "\n",
        "# prediction on test set\n",
        "y_pred_RF_under=clf_under.predict(X_test)\n",
        "\n",
        "# Model Accuracy, how often is the classifier correct?\n",
        "print(\"Accuracy:\",metrics.accuracy_score(y_test, y_pred_RF_under))"
      ],
      "execution_count": null,
      "outputs": [
        {
          "output_type": "stream",
          "name": "stdout",
          "text": [
            "Accuracy: 0.7313743056799856\n"
          ]
        }
      ]
    },
    {
      "cell_type": "code",
      "metadata": {
        "colab": {
          "base_uri": "https://localhost:8080/"
        },
        "id": "rvLLvPy_-QMk",
        "outputId": "91c860f6-3a0c-458b-a4f8-2f0d9710e159"
      },
      "source": [
        "#Claasification reprot\n",
        "print(classification_report(y_test, y_pred_RF_under))"
      ],
      "execution_count": null,
      "outputs": [
        {
          "output_type": "stream",
          "name": "stdout",
          "text": [
            "              precision    recall  f1-score   support\n",
            "\n",
            "         0.0       0.97      0.73      0.83     75830\n",
            "         1.0       0.23      0.79      0.36      7885\n",
            "\n",
            "    accuracy                           0.73     83715\n",
            "   macro avg       0.60      0.76      0.59     83715\n",
            "weighted avg       0.90      0.73      0.79     83715\n",
            "\n"
          ]
        }
      ]
    },
    {
      "cell_type": "code",
      "metadata": {
        "colab": {
          "base_uri": "https://localhost:8080/",
          "height": 312
        },
        "id": "rmP0qm9--TnT",
        "outputId": "e5910b9c-bb34-43af-8c6e-cf11714e18f1"
      },
      "source": [
        "RF_roc_auc_under = roc_auc_score(y_test, y_pred_RF_under)\n",
        "fp, tp, threshold = roc_curve(y_test, clf_under.predict_proba(X_test)[:,1])\n",
        "plt.figure()\n",
        "plt.plot(fp, tp, label = 'Random Forest area = %0.2f' % RF_roc_auc_under)\n",
        "plt.plot([0,1], [0,1], 'r--')\n",
        "plt.xlabel('False Positive Rate')\n",
        "plt.ylabel('True Positive Rate')\n",
        "plt.title('Random Forest(balanced data) ROC curve')\n",
        "plt.legend(loc = 'lower right')"
      ],
      "execution_count": null,
      "outputs": [
        {
          "output_type": "execute_result",
          "data": {
            "text/plain": [
              "<matplotlib.legend.Legend at 0x7f31ea84c210>"
            ]
          },
          "metadata": {},
          "execution_count": 53
        },
        {
          "output_type": "display_data",
          "data": {
            "image/png": "[encoded data removed]",
            "text/plain": [
              "<Figure size 432x288 with 1 Axes>"
            ]
          },
          "metadata": {
            "needs_background": "light"
          }
        }
      ]
    },
    {
      "cell_type": "markdown",
      "metadata": {
        "id": "xnB6ZDY8pZDS"
      },
      "source": [
        "Neural Network"
      ]
    },
    {
      "cell_type": "code",
      "metadata": {
        "id": "7hJCJAS4m8u8"
      },
      "source": [
        "from collections import Counter\n",
        "from sklearn.model_selection import train_test_split\n",
        "from sklearn.model_selection import cross_val_score\n",
        "import pandas as pd\n",
        "import numpy as np\n",
        "import warnings\n",
        "warnings.simplefilter(action='ignore', category=FutureWarning)\n",
        "\n",
        "from sklearn.svm import SVC\n",
        "from sklearn.metrics import classification_report, roc_auc_score\n",
        "\n",
        "from numpy import mean"
      ],
      "execution_count": null,
      "outputs": []
    },
    {
      "cell_type": "code",
      "metadata": {
        "id": "wnELIDaJn1Uw",
        "colab": {
          "base_uri": "https://localhost:8080/",
          "height": 224
        },
        "outputId": "1fcb9e14-a0d3-4054-d4e2-e052a6b40b4f"
      },
      "source": [
        "#import data\n",
        "df = heart_df\n",
        "df.head()"
      ],
      "execution_count": null,
      "outputs": [
        {
          "output_type": "execute_result",
          "data": {
            "text/html": [
              "<div>\n",
              "<style scoped>\n",
              "    .dataframe tbody tr th:only-of-type {\n",
              "        vertical-align: middle;\n",
              "    }\n",
              "\n",
              "    .dataframe tbody tr th {\n",
              "        vertical-align: top;\n",
              "    }\n",
              "\n",
              "    .dataframe thead th {\n",
              "        text-align: right;\n",
              "    }\n",
              "</style>\n",
              "<table border=\"1\" class=\"dataframe\">\n",
              "  <thead>\n",
              "    <tr style=\"text-align: right;\">\n",
              "      <th></th>\n",
              "      <th>HeartDiseaseorAttack</th>\n",
              "      <th>HighBP</th>\n",
              "      <th>HighChol</th>\n",
              "      <th>CholCheck</th>\n",
              "      <th>BMI</th>\n",
              "      <th>Smoker</th>\n",
              "      <th>Stroke</th>\n",
              "      <th>Diabetes</th>\n",
              "      <th>PhysActivity</th>\n",
              "      <th>Fruits</th>\n",
              "      <th>Veggies</th>\n",
              "      <th>HvyAlcoholConsump</th>\n",
              "      <th>AnyHealthcare</th>\n",
              "      <th>NoDocbcCost</th>\n",
              "      <th>GenHlth</th>\n",
              "      <th>MentHlth</th>\n",
              "      <th>PhysHlth</th>\n",
              "      <th>DiffWalk</th>\n",
              "      <th>Sex</th>\n",
              "      <th>Age</th>\n",
              "      <th>Education</th>\n",
              "      <th>Income</th>\n",
              "    </tr>\n",
              "  </thead>\n",
              "  <tbody>\n",
              "    <tr>\n",
              "      <th>0</th>\n",
              "      <td>0.0</td>\n",
              "      <td>1.0</td>\n",
              "      <td>1.0</td>\n",
              "      <td>1.0</td>\n",
              "      <td>40.0</td>\n",
              "      <td>1.0</td>\n",
              "      <td>0.0</td>\n",
              "      <td>0.0</td>\n",
              "      <td>0.0</td>\n",
              "      <td>0.0</td>\n",
              "      <td>1.0</td>\n",
              "      <td>0.0</td>\n",
              "      <td>1.0</td>\n",
              "      <td>0.0</td>\n",
              "      <td>5.0</td>\n",
              "      <td>18.0</td>\n",
              "      <td>15.0</td>\n",
              "      <td>1.0</td>\n",
              "      <td>0.0</td>\n",
              "      <td>9.0</td>\n",
              "      <td>4.0</td>\n",
              "      <td>3.0</td>\n",
              "    </tr>\n",
              "    <tr>\n",
              "      <th>1</th>\n",
              "      <td>0.0</td>\n",
              "      <td>0.0</td>\n",
              "      <td>0.0</td>\n",
              "      <td>0.0</td>\n",
              "      <td>25.0</td>\n",
              "      <td>1.0</td>\n",
              "      <td>0.0</td>\n",
              "      <td>0.0</td>\n",
              "      <td>1.0</td>\n",
              "      <td>0.0</td>\n",
              "      <td>0.0</td>\n",
              "      <td>0.0</td>\n",
              "      <td>0.0</td>\n",
              "      <td>1.0</td>\n",
              "      <td>3.0</td>\n",
              "      <td>0.0</td>\n",
              "      <td>0.0</td>\n",
              "      <td>0.0</td>\n",
              "      <td>0.0</td>\n",
              "      <td>7.0</td>\n",
              "      <td>6.0</td>\n",
              "      <td>1.0</td>\n",
              "    </tr>\n",
              "    <tr>\n",
              "      <th>2</th>\n",
              "      <td>0.0</td>\n",
              "      <td>1.0</td>\n",
              "      <td>1.0</td>\n",
              "      <td>1.0</td>\n",
              "      <td>28.0</td>\n",
              "      <td>0.0</td>\n",
              "      <td>0.0</td>\n",
              "      <td>0.0</td>\n",
              "      <td>0.0</td>\n",
              "      <td>1.0</td>\n",
              "      <td>0.0</td>\n",
              "      <td>0.0</td>\n",
              "      <td>1.0</td>\n",
              "      <td>1.0</td>\n",
              "      <td>5.0</td>\n",
              "      <td>30.0</td>\n",
              "      <td>30.0</td>\n",
              "      <td>1.0</td>\n",
              "      <td>0.0</td>\n",
              "      <td>9.0</td>\n",
              "      <td>4.0</td>\n",
              "      <td>8.0</td>\n",
              "    </tr>\n",
              "    <tr>\n",
              "      <th>3</th>\n",
              "      <td>0.0</td>\n",
              "      <td>1.0</td>\n",
              "      <td>0.0</td>\n",
              "      <td>1.0</td>\n",
              "      <td>27.0</td>\n",
              "      <td>0.0</td>\n",
              "      <td>0.0</td>\n",
              "      <td>0.0</td>\n",
              "      <td>1.0</td>\n",
              "      <td>1.0</td>\n",
              "      <td>1.0</td>\n",
              "      <td>0.0</td>\n",
              "      <td>1.0</td>\n",
              "      <td>0.0</td>\n",
              "      <td>2.0</td>\n",
              "      <td>0.0</td>\n",
              "      <td>0.0</td>\n",
              "      <td>0.0</td>\n",
              "      <td>0.0</td>\n",
              "      <td>11.0</td>\n",
              "      <td>3.0</td>\n",
              "      <td>6.0</td>\n",
              "    </tr>\n",
              "    <tr>\n",
              "      <th>4</th>\n",
              "      <td>0.0</td>\n",
              "      <td>1.0</td>\n",
              "      <td>1.0</td>\n",
              "      <td>1.0</td>\n",
              "      <td>24.0</td>\n",
              "      <td>0.0</td>\n",
              "      <td>0.0</td>\n",
              "      <td>0.0</td>\n",
              "      <td>1.0</td>\n",
              "      <td>1.0</td>\n",
              "      <td>1.0</td>\n",
              "      <td>0.0</td>\n",
              "      <td>1.0</td>\n",
              "      <td>0.0</td>\n",
              "      <td>2.0</td>\n",
              "      <td>3.0</td>\n",
              "      <td>0.0</td>\n",
              "      <td>0.0</td>\n",
              "      <td>0.0</td>\n",
              "      <td>11.0</td>\n",
              "      <td>5.0</td>\n",
              "      <td>4.0</td>\n",
              "    </tr>\n",
              "  </tbody>\n",
              "</table>\n",
              "</div>"
            ],
            "text/plain": [
              "   HeartDiseaseorAttack  HighBP  HighChol  ...   Age  Education  Income\n",
              "0                   0.0     1.0       1.0  ...   9.0        4.0     3.0\n",
              "1                   0.0     0.0       0.0  ...   7.0        6.0     1.0\n",
              "2                   0.0     1.0       1.0  ...   9.0        4.0     8.0\n",
              "3                   0.0     1.0       0.0  ...  11.0        3.0     6.0\n",
              "4                   0.0     1.0       1.0  ...  11.0        5.0     4.0\n",
              "\n",
              "[5 rows x 22 columns]"
            ]
          },
          "metadata": {},
          "execution_count": 43
        }
      ]
    },
    {
      "cell_type": "code",
      "metadata": {
        "id": "XRrDunfDn3Ym",
        "colab": {
          "base_uri": "https://localhost:8080/"
        },
        "outputId": "344c95a7-8208-48b7-f45e-7cc966d45047"
      },
      "source": [
        "#check whether the data is imbanlanced or not\n",
        "df['HeartDiseaseorAttack'].value_counts()/len(df)"
      ],
      "execution_count": null,
      "outputs": [
        {
          "output_type": "execute_result",
          "data": {
            "text/plain": [
              "0.0    0.905814\n",
              "1.0    0.094186\n",
              "Name: HeartDiseaseorAttack, dtype: float64"
            ]
          },
          "metadata": {},
          "execution_count": 44
        }
      ]
    },
    {
      "cell_type": "code",
      "metadata": {
        "id": "NA4qOvcYn9Wu",
        "colab": {
          "base_uri": "https://localhost:8080/"
        },
        "outputId": "0c02e1b2-3f35-4043-859b-b124410bb3fc"
      },
      "source": [
        "#define feature column X and respone data y\n",
        "X = df.iloc[:,1:]\n",
        "y = df.iloc[:,0]\n",
        "#splite train set and test set\n",
        "X_train,X_test,y_train,y_test = train_test_split(X,y,test_size=0.40)\n",
        "print('before:', Counter(y_train))\n",
        "#one-hot-encoding\n",
        "from sklearn.preprocessing import OneHotEncoder\n",
        "\n",
        "def OneHotEncoding(df, enc, categories):\n",
        "  transformed = pd.DataFrame(enc.transform(df[categories]).toarray(), columns=enc.get_feature_names(categories))\n",
        "  return pd.concat([df.reset_index(drop=True), transformed], axis=1).drop(categories, axis=1)\n",
        "\n",
        "categories = ['HighBP', 'HighChol', 'CholCheck',\n",
        "       'Smoker', 'Stroke', 'Diabetes', 'PhysActivity', 'Fruits', 'Veggies',\n",
        "       'HvyAlcoholConsump', 'AnyHealthcare', 'NoDocbcCost', 'GenHlth', 'DiffWalk', 'Sex', 'Education',\n",
        "       'Income']\n",
        "enc_ohe = OneHotEncoder(handle_unknown ='ignore')\n",
        "enc_ohe.fit(X_train[categories])\n",
        "\n",
        "X_train = OneHotEncoding(X_train, enc_ohe, categories)\n",
        "X_test = OneHotEncoding(X_test, enc_ohe, categories)"
      ],
      "execution_count": null,
      "outputs": [
        {
          "output_type": "stream",
          "name": "stdout",
          "text": [
            "before: Counter({0.0: 137817, 1.0: 14391})\n"
          ]
        }
      ]
    },
    {
      "cell_type": "code",
      "metadata": {
        "id": "BMBfpRAKoInC",
        "colab": {
          "base_uri": "https://localhost:8080/"
        },
        "outputId": "9fa3c436-644a-42e3-daf9-c4e68edf24f6"
      },
      "source": [
        "#deal with the imbalanced data\n",
        "from imblearn.under_sampling import RandomUnderSampler\n",
        "undersample = RandomUnderSampler(sampling_strategy='majority')\n",
        "X_train_under, y_train_under = undersample.fit_resample(X_train,y_train)\n",
        "from collections import Counter\n",
        "print('before', Counter(y_train))\n",
        "print('after:', Counter(y_train_under))"
      ],
      "execution_count": null,
      "outputs": [
        {
          "output_type": "stream",
          "name": "stdout",
          "text": [
            "before Counter({0.0: 137817, 1.0: 14391})\n",
            "after: Counter({0.0: 14391, 1.0: 14391})\n"
          ]
        }
      ]
    },
    {
      "cell_type": "code",
      "metadata": {
        "colab": {
          "base_uri": "https://localhost:8080/"
        },
        "id": "WdLcO-BDbrgI",
        "outputId": "9cae1b46-7588-4ef5-821a-4736bec53a9c"
      },
      "source": [
        "X_test_under, y_test_under = undersample.fit_resample(X_test,y_test)\n",
        "print('before', Counter(y_test))\n",
        "print('after:', Counter(y_test_under))"
      ],
      "execution_count": null,
      "outputs": [
        {
          "output_type": "stream",
          "name": "stdout",
          "text": [
            "before Counter({0.0: 91970, 1.0: 9502})\n",
            "after: Counter({0.0: 9502, 1.0: 9502})\n"
          ]
        }
      ]
    },
    {
      "cell_type": "code",
      "metadata": {
        "id": "mQu6j2QooMBL"
      },
      "source": [
        "# Scale the data, using standardization\n",
        "# standardization (x-mean)/std\n",
        "num_cols = ['BMI', 'MentHlth', 'PhysHlth', 'Age']\n",
        "from sklearn.preprocessing import StandardScaler\n",
        "scaler = StandardScaler()\n",
        "scaler.fit(X_train[num_cols])\n",
        "X_train[num_cols] = scaler.transform(X_train[num_cols])\n",
        "X_test[num_cols] = scaler.transform(X_test[num_cols])"
      ],
      "execution_count": null,
      "outputs": []
    },
    {
      "cell_type": "code",
      "metadata": {
        "id": "yVBtmXVFoOxW",
        "colab": {
          "base_uri": "https://localhost:8080/"
        },
        "outputId": "2920301f-5124-4dcc-c8f4-8c6a633dc31c"
      },
      "source": [
        "import tensorflow as tf\n",
        "from tensorflow.keras.models import Sequential\n",
        "from tensorflow.keras.layers import Dense, Activation,Dropout\n",
        "model = Sequential()\n",
        "\n",
        "model.add(Dense(units=128,activation='relu'))\n",
        "\n",
        "model.add(Dense(units=64,activation='relu'))\n",
        "\n",
        "model.add(Dense(units=1,activation='sigmoid'))\n",
        "\n",
        "# For a binary classification problem\n",
        "model.compile(loss='binary_crossentropy', optimizer='adam')\n",
        "model.fit(x=X_train_under,\n",
        "          y=y_train_under,\n",
        "          epochs=25,\n",
        "          validation_data=(X_test_under, y_test_under), verbose=0\n",
        "          )"
      ],
      "execution_count": null,
      "outputs": [
        {
          "output_type": "execute_result",
          "data": {
            "text/plain": [
              "<keras.callbacks.History at 0x7fad69272790>"
            ]
          },
          "metadata": {},
          "execution_count": 113
        }
      ]
    },
    {
      "cell_type": "code",
      "metadata": {
        "id": "f1EqJcn6oWn_",
        "colab": {
          "base_uri": "https://localhost:8080/",
          "height": 282
        },
        "outputId": "33850a3f-0a43-418a-cdda-e0e34191ddaa"
      },
      "source": [
        "model_loss = pd.DataFrame(model.history.history)\n",
        "model_loss.plot()"
      ],
      "execution_count": null,
      "outputs": [
        {
          "output_type": "execute_result",
          "data": {
            "text/plain": [
              "<matplotlib.axes._subplots.AxesSubplot at 0x7fad63077e10>"
            ]
          },
          "metadata": {},
          "execution_count": 114
        },
        {
          "output_type": "display_data",
          "data": {
            "image/png": "[encoded data removed]",
            "text/plain": [
              "<Figure size 432x288 with 1 Axes>"
            ]
          },
          "metadata": {
            "needs_background": "light"
          }
        }
      ]
    },
    {
      "cell_type": "code",
      "metadata": {
        "id": "d50dau6foZX6"
      },
      "source": [
        "#Predict on test set\n",
        "predictions_NN_model = model.predict(X_test_under)\n",
        "predictions_NN_model = predictions_NN_model[:,0]\n",
        "\n",
        "predictions_NN_Model01 = np.where(predictions_NN_model > 0.5, 1, 0) #Turn probability to 0-1 binary output"
      ],
      "execution_count": null,
      "outputs": []
    },
    {
      "cell_type": "code",
      "metadata": {
        "id": "SpKBcuOeobzq",
        "colab": {
          "base_uri": "https://localhost:8080/",
          "height": 295
        },
        "outputId": "3ac3e931-98e8-41a1-ac42-746f0591d1a9"
      },
      "source": [
        "#Print Area Under Curve\n",
        "import matplotlib.pyplot as plt\n",
        "predictions_NN_prob = model.predict(X_test_under)\n",
        "predictions_NN_prob = predictions_NN_prob[:,0]\n",
        "false_positive_rate, recall, thresholds = roc_curve(y_test_under, predictions_NN_prob)\n",
        "roc_auc = auc(false_positive_rate, recall)\n",
        "plt.figure()\n",
        "plt.title('Receiver Operating Characteristic (ROC)')\n",
        "plt.plot(false_positive_rate, recall, 'b', label = 'AUC = %0.3f' %roc_auc)\n",
        "plt.legend(loc='lower right')\n",
        "plt.plot([0,1], [0,1], 'r--')\n",
        "plt.xlim([0.0,1.0])\n",
        "plt.ylim([0.0,1.0])\n",
        "plt.ylabel('Recall')\n",
        "plt.xlabel('Fall-out (1-Specificity)')\n",
        "plt.show()"
      ],
      "execution_count": null,
      "outputs": [
        {
          "output_type": "display_data",
          "data": {
            "image/png": "[encoded data removed]",
            "text/plain": [
              "<Figure size 432x288 with 1 Axes>"
            ]
          },
          "metadata": {
            "needs_background": "light"
          }
        }
      ]
    },
    {
      "cell_type": "code",
      "metadata": {
        "id": "M5ySTuVVo4fg",
        "colab": {
          "base_uri": "https://localhost:8080/"
        },
        "outputId": "ac62890d-6379-4b59-f3ff-68d5afd6f54d"
      },
      "source": [
        "from sklearn.metrics import precision_score, recall_score, f1_score, accuracy_score\n",
        "from sklearn import metrics\n",
        "from sklearn.metrics import confusion_matrix,accuracy_score, roc_curve, auc\n",
        "print(metrics.confusion_matrix(y_test_under, predictions_NN_Model01))\n",
        "print(metrics.classification_report(y_test_under, predictions_NN_Model01))"
      ],
      "execution_count": null,
      "outputs": [
        {
          "output_type": "stream",
          "name": "stdout",
          "text": [
            "[[6839 2663]\n",
            " [1705 7797]]\n",
            "              precision    recall  f1-score   support\n",
            "\n",
            "         0.0       0.80      0.72      0.76      9502\n",
            "         1.0       0.75      0.82      0.78      9502\n",
            "\n",
            "    accuracy                           0.77     19004\n",
            "   macro avg       0.77      0.77      0.77     19004\n",
            "weighted avg       0.77      0.77      0.77     19004\n",
            "\n"
          ]
        }
      ]
    },
    {
      "cell_type": "code",
      "metadata": {
        "id": "eN5Jgh20pFzo",
        "colab": {
          "base_uri": "https://localhost:8080/",
          "height": 282
        },
        "outputId": "b3b19eec-2096-4dc6-87ce-0b1e3a3183ae"
      },
      "source": [
        "model2 = Sequential()\n",
        "\n",
        "model2.add(Dense(units=128,activation='relu'))\n",
        "\n",
        "model2.add(Dense(units=64,activation='relu'))\n",
        "\n",
        "model2.add(Dense(units=32,activation='relu'))\n",
        "\n",
        "model2.add(Dense(units=1,activation='sigmoid'))\n",
        "\n",
        "# For a binary classification problem\n",
        "model2.compile(loss='binary_crossentropy', optimizer='adam')\n",
        "model2.fit(x=X_train_under,\n",
        "          y=y_train_under,\n",
        "          epochs=25,\n",
        "          validation_data=(X_test_under, y_test_under), verbose=0\n",
        "          )\n",
        "model_loss2 = pd.DataFrame(model2.history.history)\n",
        "model_loss2.plot()"
      ],
      "execution_count": null,
      "outputs": [
        {
          "output_type": "execute_result",
          "data": {
            "text/plain": [
              "<matplotlib.axes._subplots.AxesSubplot at 0x7fad63acfd50>"
            ]
          },
          "metadata": {},
          "execution_count": 119
        },
        {
          "output_type": "display_data",
          "data": {
            "image/png": "[encoded data removed]",
            "text/plain": [
              "<Figure size 432x288 with 1 Axes>"
            ]
          },
          "metadata": {
            "needs_background": "light"
          }
        }
      ]
    },
    {
      "cell_type": "code",
      "metadata": {
        "id": "zoV799AdpQcW",
        "colab": {
          "base_uri": "https://localhost:8080/",
          "height": 295
        },
        "outputId": "42ffcf5e-f6c8-46d5-b684-39f0320f7746"
      },
      "source": [
        "#Predict on test set\n",
        "predictions_NN_model2 = model2.predict(X_test_under)\n",
        "predictions_NN_model2 = predictions_NN_model2[:,0]\n",
        "\n",
        "predictions_NN_Model02 = np.where(predictions_NN_model2 > 0.5, 1, 0)\n",
        "#Print Area Under Curve\n",
        "import matplotlib.pyplot as plt\n",
        "predictions_NN_prob = model2.predict(X_test_under)\n",
        "predictions_NN_prob = predictions_NN_prob[:,0]\n",
        "false_positive_rate, recall, thresholds = roc_curve(y_test_under, predictions_NN_prob)\n",
        "roc_auc = auc(false_positive_rate, recall)\n",
        "plt.figure()\n",
        "plt.title('Receiver Operating Characteristic (ROC)')\n",
        "plt.plot(false_positive_rate, recall, 'b', label = 'AUC = %0.3f' %roc_auc)\n",
        "plt.legend(loc='lower right')\n",
        "plt.plot([0,1], [0,1], 'r--')\n",
        "plt.xlim([0.0,1.0])\n",
        "plt.ylim([0.0,1.0])\n",
        "plt.ylabel('Recall')\n",
        "plt.xlabel('Fall-out (1-Specificity)')\n",
        "plt.show()"
      ],
      "execution_count": null,
      "outputs": [
        {
          "output_type": "display_data",
          "data": {
            "image/png": "[encoded data removed]",
            "text/plain": [
              "<Figure size 432x288 with 1 Axes>"
            ]
          },
          "metadata": {
            "needs_background": "light"
          }
        }
      ]
    },
    {
      "cell_type": "code",
      "metadata": {
        "id": "azpq57OepVW9",
        "colab": {
          "base_uri": "https://localhost:8080/"
        },
        "outputId": "cf14ed71-7513-45df-bdbe-d0dd28a10256"
      },
      "source": [
        "print(metrics.confusion_matrix(y_test_under, predictions_NN_Model02))\n",
        "print(metrics.classification_report(y_test_under, predictions_NN_Model02))"
      ],
      "execution_count": null,
      "outputs": [
        {
          "output_type": "stream",
          "name": "stdout",
          "text": [
            "[[6785 2717]\n",
            " [1683 7819]]\n",
            "              precision    recall  f1-score   support\n",
            "\n",
            "         0.0       0.80      0.71      0.76      9502\n",
            "         1.0       0.74      0.82      0.78      9502\n",
            "\n",
            "    accuracy                           0.77     19004\n",
            "   macro avg       0.77      0.77      0.77     19004\n",
            "weighted avg       0.77      0.77      0.77     19004\n",
            "\n"
          ]
        }
      ]
    }
  ]
}